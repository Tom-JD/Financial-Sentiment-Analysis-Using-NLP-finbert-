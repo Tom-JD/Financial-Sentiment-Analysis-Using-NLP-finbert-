{
  "nbformat": 4,
  "nbformat_minor": 0,
  "metadata": {
    "colab": {
      "name": "ObtainingStockData.ipynb",
      "provenance": [],
      "collapsed_sections": [],
      "mount_file_id": "1AMqRcHELZvS0JP2P5fgt4mvDSgFmlO2N",
      "authorship_tag": "ABX9TyP4rxBdQ8yO125RqeEGY+9a",
      "include_colab_link": true
    },
    "kernelspec": {
      "name": "python3",
      "display_name": "Python 3"
    },
    "language_info": {
      "name": "python"
    }
  },
  "cells": [
    {
      "cell_type": "markdown",
      "metadata": {
        "id": "view-in-github",
        "colab_type": "text"
      },
      "source": [
        "<a href=\"https://colab.research.google.com/github/Tom-JD/Financial-Sentiment-Analysis-Using-NLP-finbert-/blob/main/ObtainingStockData.ipynb\" target=\"_parent\"><img src=\"https://colab.research.google.com/assets/colab-badge.svg\" alt=\"Open In Colab\"/></a>"
      ]
    },
    {
      "cell_type": "markdown",
      "metadata": {
        "id": "zKqXD8YHDfF7"
      },
      "source": [
        "# **Obtaining the Company Announcement Data**"
      ]
    },
    {
      "cell_type": "markdown",
      "metadata": {
        "id": "dBhXamZxDngB"
      },
      "source": [
        "As mentioned in the other document, we will be scraping company announcements for Eurosports Global Ltd. Here is a general code I created to scrape them off the appropriate link into my Google drive to save me the time and manpower. It also served useful when I tested my code using other companys' announcements."
      ]
    },
    {
      "cell_type": "code",
      "metadata": {
        "id": "E8dsSVTJgW9E"
      },
      "source": [
        "import os"
      ],
      "execution_count": null,
      "outputs": []
    },
    {
      "cell_type": "code",
      "metadata": {
        "colab": {
          "base_uri": "https://localhost:8080/"
        },
        "id": "vvYxDd_ykcf4",
        "outputId": "92ed2246-d6f3-45d6-b47c-0e272e24a6ab"
      },
      "source": [
        "from google.colab import drive\n",
        "drive.mount('/content/drive')"
      ],
      "execution_count": null,
      "outputs": [
        {
          "output_type": "stream",
          "text": [
            "Drive already mounted at /content/drive; to attempt to forcibly remount, call drive.mount(\"/content/drive\", force_remount=True).\n"
          ],
          "name": "stdout"
        }
      ]
    },
    {
      "cell_type": "code",
      "metadata": {
        "colab": {
          "base_uri": "https://localhost:8080/"
        },
        "id": "uZjwucFeiUq-",
        "outputId": "583b7208-190a-4393-a908-4744dfb44544"
      },
      "source": [
        "from google.colab import drive; drive.mount('/content/gdrive', force_remount=True)\n",
        "%cd '/content/gdrive/My Drive/Colab Notebooks/Data'"
      ],
      "execution_count": null,
      "outputs": [
        {
          "output_type": "stream",
          "text": [
            "Mounted at /content/gdrive\n",
            "/content/gdrive/My Drive/Colab Notebooks/Data\n"
          ],
          "name": "stdout"
        }
      ]
    },
    {
      "cell_type": "code",
      "metadata": {
        "id": "dbDHOCl3nDPp",
        "colab": {
          "base_uri": "https://localhost:8080/",
          "height": 163
        },
        "outputId": "9587cc45-f336-4a69-cecc-e5d52f6c5541"
      },
      "source": [
        "drive.flush_and_unmount()"
      ],
      "execution_count": null,
      "outputs": [
        {
          "output_type": "error",
          "ename": "NameError",
          "evalue": "ignored",
          "traceback": [
            "\u001b[0;31m---------------------------------------------------------------------------\u001b[0m",
            "\u001b[0;31mNameError\u001b[0m                                 Traceback (most recent call last)",
            "\u001b[0;32m<ipython-input-7-7e7fc67cc157>\u001b[0m in \u001b[0;36m<module>\u001b[0;34m()\u001b[0m\n\u001b[0;32m----> 1\u001b[0;31m \u001b[0mdrive\u001b[0m\u001b[0;34m.\u001b[0m\u001b[0mflush_and_unmount\u001b[0m\u001b[0;34m(\u001b[0m\u001b[0;34m)\u001b[0m\u001b[0;34m\u001b[0m\u001b[0;34m\u001b[0m\u001b[0m\n\u001b[0m",
            "\u001b[0;31mNameError\u001b[0m: name 'drive' is not defined"
          ]
        }
      ]
    },
    {
      "cell_type": "markdown",
      "metadata": {
        "id": "EiD7WEqTEE_5"
      },
      "source": [
        "We use selenium drivers to download it. The SGX website repeatedly locked me out of it, denying requests if I ran the code too often, and the below arguments added to the webdriver aid in overcoming this."
      ]
    },
    {
      "cell_type": "code",
      "metadata": {
        "colab": {
          "base_uri": "https://localhost:8080/"
        },
        "id": "iEE3x6cDkCVm",
        "outputId": "493bc7f6-4a15-48f8-f852-65e26bfb6131"
      },
      "source": [
        "!pip install selenium\n",
        "!apt-get update \n",
        "!apt install chromium-chromedriver\n",
        "\n",
        "from selenium import webdriver\n",
        "chrome_options = webdriver.ChromeOptions()\n",
        "chrome_options.add_argument('--headless')\n",
        "chrome_options.add_argument('--no-sandbox')\n",
        "chrome_options.add_argument('--disable-dev-shm-usage')\n",
        "wd = webdriver.Chrome('chromedriver',chrome_options=chrome_options)\n",
        "driver =webdriver.Chrome('chromedriver',chrome_options=chrome_options)"
      ],
      "execution_count": null,
      "outputs": [
        {
          "output_type": "stream",
          "text": [
            "Collecting selenium\n",
            "  Downloading selenium-3.141.0-py2.py3-none-any.whl (904 kB)\n",
            "\u001b[?25l\r\u001b[K     |▍                               | 10 kB 17.2 MB/s eta 0:00:01\r\u001b[K     |▊                               | 20 kB 16.1 MB/s eta 0:00:01\r\u001b[K     |█                               | 30 kB 20.0 MB/s eta 0:00:01\r\u001b[K     |█▌                              | 40 kB 23.0 MB/s eta 0:00:01\r\u001b[K     |█▉                              | 51 kB 26.2 MB/s eta 0:00:01\r\u001b[K     |██▏                             | 61 kB 28.4 MB/s eta 0:00:01\r\u001b[K     |██▌                             | 71 kB 29.0 MB/s eta 0:00:01\r\u001b[K     |███                             | 81 kB 31.0 MB/s eta 0:00:01\r\u001b[K     |███▎                            | 92 kB 23.8 MB/s eta 0:00:01\r\u001b[K     |███▋                            | 102 kB 23.4 MB/s eta 0:00:01\r\u001b[K     |████                            | 112 kB 23.4 MB/s eta 0:00:01\r\u001b[K     |████▍                           | 122 kB 23.4 MB/s eta 0:00:01\r\u001b[K     |████▊                           | 133 kB 23.4 MB/s eta 0:00:01\r\u001b[K     |█████                           | 143 kB 23.4 MB/s eta 0:00:01\r\u001b[K     |█████▍                          | 153 kB 23.4 MB/s eta 0:00:01\r\u001b[K     |█████▉                          | 163 kB 23.4 MB/s eta 0:00:01\r\u001b[K     |██████▏                         | 174 kB 23.4 MB/s eta 0:00:01\r\u001b[K     |██████▌                         | 184 kB 23.4 MB/s eta 0:00:01\r\u001b[K     |██████▉                         | 194 kB 23.4 MB/s eta 0:00:01\r\u001b[K     |███████▎                        | 204 kB 23.4 MB/s eta 0:00:01\r\u001b[K     |███████▋                        | 215 kB 23.4 MB/s eta 0:00:01\r\u001b[K     |████████                        | 225 kB 23.4 MB/s eta 0:00:01\r\u001b[K     |████████▎                       | 235 kB 23.4 MB/s eta 0:00:01\r\u001b[K     |████████▊                       | 245 kB 23.4 MB/s eta 0:00:01\r\u001b[K     |█████████                       | 256 kB 23.4 MB/s eta 0:00:01\r\u001b[K     |█████████▍                      | 266 kB 23.4 MB/s eta 0:00:01\r\u001b[K     |█████████▉                      | 276 kB 23.4 MB/s eta 0:00:01\r\u001b[K     |██████████▏                     | 286 kB 23.4 MB/s eta 0:00:01\r\u001b[K     |██████████▌                     | 296 kB 23.4 MB/s eta 0:00:01\r\u001b[K     |██████████▉                     | 307 kB 23.4 MB/s eta 0:00:01\r\u001b[K     |███████████▎                    | 317 kB 23.4 MB/s eta 0:00:01\r\u001b[K     |███████████▋                    | 327 kB 23.4 MB/s eta 0:00:01\r\u001b[K     |████████████                    | 337 kB 23.4 MB/s eta 0:00:01\r\u001b[K     |████████████▎                   | 348 kB 23.4 MB/s eta 0:00:01\r\u001b[K     |████████████▊                   | 358 kB 23.4 MB/s eta 0:00:01\r\u001b[K     |█████████████                   | 368 kB 23.4 MB/s eta 0:00:01\r\u001b[K     |█████████████▍                  | 378 kB 23.4 MB/s eta 0:00:01\r\u001b[K     |█████████████▊                  | 389 kB 23.4 MB/s eta 0:00:01\r\u001b[K     |██████████████▏                 | 399 kB 23.4 MB/s eta 0:00:01\r\u001b[K     |██████████████▌                 | 409 kB 23.4 MB/s eta 0:00:01\r\u001b[K     |██████████████▉                 | 419 kB 23.4 MB/s eta 0:00:01\r\u001b[K     |███████████████▏                | 430 kB 23.4 MB/s eta 0:00:01\r\u001b[K     |███████████████▋                | 440 kB 23.4 MB/s eta 0:00:01\r\u001b[K     |████████████████                | 450 kB 23.4 MB/s eta 0:00:01\r\u001b[K     |████████████████▎               | 460 kB 23.4 MB/s eta 0:00:01\r\u001b[K     |████████████████▋               | 471 kB 23.4 MB/s eta 0:00:01\r\u001b[K     |█████████████████               | 481 kB 23.4 MB/s eta 0:00:01\r\u001b[K     |█████████████████▍              | 491 kB 23.4 MB/s eta 0:00:01\r\u001b[K     |█████████████████▊              | 501 kB 23.4 MB/s eta 0:00:01\r\u001b[K     |██████████████████▏             | 512 kB 23.4 MB/s eta 0:00:01\r\u001b[K     |██████████████████▌             | 522 kB 23.4 MB/s eta 0:00:01\r\u001b[K     |██████████████████▉             | 532 kB 23.4 MB/s eta 0:00:01\r\u001b[K     |███████████████████▏            | 542 kB 23.4 MB/s eta 0:00:01\r\u001b[K     |███████████████████▋            | 552 kB 23.4 MB/s eta 0:00:01\r\u001b[K     |████████████████████            | 563 kB 23.4 MB/s eta 0:00:01\r\u001b[K     |████████████████████▎           | 573 kB 23.4 MB/s eta 0:00:01\r\u001b[K     |████████████████████▋           | 583 kB 23.4 MB/s eta 0:00:01\r\u001b[K     |█████████████████████           | 593 kB 23.4 MB/s eta 0:00:01\r\u001b[K     |█████████████████████▍          | 604 kB 23.4 MB/s eta 0:00:01\r\u001b[K     |█████████████████████▊          | 614 kB 23.4 MB/s eta 0:00:01\r\u001b[K     |██████████████████████          | 624 kB 23.4 MB/s eta 0:00:01\r\u001b[K     |██████████████████████▌         | 634 kB 23.4 MB/s eta 0:00:01\r\u001b[K     |██████████████████████▉         | 645 kB 23.4 MB/s eta 0:00:01\r\u001b[K     |███████████████████████▏        | 655 kB 23.4 MB/s eta 0:00:01\r\u001b[K     |███████████████████████▌        | 665 kB 23.4 MB/s eta 0:00:01\r\u001b[K     |████████████████████████        | 675 kB 23.4 MB/s eta 0:00:01\r\u001b[K     |████████████████████████▎       | 686 kB 23.4 MB/s eta 0:00:01\r\u001b[K     |████████████████████████▋       | 696 kB 23.4 MB/s eta 0:00:01\r\u001b[K     |█████████████████████████       | 706 kB 23.4 MB/s eta 0:00:01\r\u001b[K     |█████████████████████████▍      | 716 kB 23.4 MB/s eta 0:00:01\r\u001b[K     |█████████████████████████▊      | 727 kB 23.4 MB/s eta 0:00:01\r\u001b[K     |██████████████████████████      | 737 kB 23.4 MB/s eta 0:00:01\r\u001b[K     |██████████████████████████▍     | 747 kB 23.4 MB/s eta 0:00:01\r\u001b[K     |██████████████████████████▉     | 757 kB 23.4 MB/s eta 0:00:01\r\u001b[K     |███████████████████████████▏    | 768 kB 23.4 MB/s eta 0:00:01\r\u001b[K     |███████████████████████████▌    | 778 kB 23.4 MB/s eta 0:00:01\r\u001b[K     |████████████████████████████    | 788 kB 23.4 MB/s eta 0:00:01\r\u001b[K     |████████████████████████████▎   | 798 kB 23.4 MB/s eta 0:00:01\r\u001b[K     |████████████████████████████▋   | 808 kB 23.4 MB/s eta 0:00:01\r\u001b[K     |█████████████████████████████   | 819 kB 23.4 MB/s eta 0:00:01\r\u001b[K     |█████████████████████████████▍  | 829 kB 23.4 MB/s eta 0:00:01\r\u001b[K     |█████████████████████████████▊  | 839 kB 23.4 MB/s eta 0:00:01\r\u001b[K     |██████████████████████████████  | 849 kB 23.4 MB/s eta 0:00:01\r\u001b[K     |██████████████████████████████▍ | 860 kB 23.4 MB/s eta 0:00:01\r\u001b[K     |██████████████████████████████▉ | 870 kB 23.4 MB/s eta 0:00:01\r\u001b[K     |███████████████████████████████▏| 880 kB 23.4 MB/s eta 0:00:01\r\u001b[K     |███████████████████████████████▌| 890 kB 23.4 MB/s eta 0:00:01\r\u001b[K     |███████████████████████████████▉| 901 kB 23.4 MB/s eta 0:00:01\r\u001b[K     |████████████████████████████████| 904 kB 23.4 MB/s \n",
            "\u001b[?25hRequirement already satisfied: urllib3 in /usr/local/lib/python3.7/dist-packages (from selenium) (1.24.3)\n",
            "Installing collected packages: selenium\n",
            "Successfully installed selenium-3.141.0\n",
            "Get:1 https://cloud.r-project.org/bin/linux/ubuntu bionic-cran40/ InRelease [3,626 B]\n",
            "Get:2 http://security.ubuntu.com/ubuntu bionic-security InRelease [88.7 kB]\n",
            "Ign:3 https://developer.download.nvidia.com/compute/cuda/repos/ubuntu1804/x86_64  InRelease\n",
            "Get:4 http://ppa.launchpad.net/c2d4u.team/c2d4u4.0+/ubuntu bionic InRelease [15.9 kB]\n",
            "Hit:5 http://archive.ubuntu.com/ubuntu bionic InRelease\n",
            "Ign:6 https://developer.download.nvidia.com/compute/machine-learning/repos/ubuntu1804/x86_64  InRelease\n",
            "Hit:7 https://developer.download.nvidia.com/compute/cuda/repos/ubuntu1804/x86_64  Release\n",
            "Hit:8 https://developer.download.nvidia.com/compute/machine-learning/repos/ubuntu1804/x86_64  Release\n",
            "Get:9 http://archive.ubuntu.com/ubuntu bionic-updates InRelease [88.7 kB]\n",
            "Hit:10 http://ppa.launchpad.net/cran/libgit2/ubuntu bionic InRelease\n",
            "Get:11 http://archive.ubuntu.com/ubuntu bionic-backports InRelease [74.6 kB]\n",
            "Hit:12 http://ppa.launchpad.net/deadsnakes/ppa/ubuntu bionic InRelease\n",
            "Get:13 http://security.ubuntu.com/ubuntu bionic-security/restricted amd64 Packages [543 kB]\n",
            "Get:14 http://security.ubuntu.com/ubuntu bionic-security/main amd64 Packages [2,294 kB]\n",
            "Hit:15 http://ppa.launchpad.net/graphics-drivers/ppa/ubuntu bionic InRelease\n",
            "Get:16 http://security.ubuntu.com/ubuntu bionic-security/universe amd64 Packages [1,424 kB]\n",
            "Get:19 http://ppa.launchpad.net/c2d4u.team/c2d4u4.0+/ubuntu bionic/main Sources [1,794 kB]\n",
            "Get:20 http://archive.ubuntu.com/ubuntu bionic-updates/restricted amd64 Packages [575 kB]\n",
            "Get:21 http://archive.ubuntu.com/ubuntu bionic-updates/universe amd64 Packages [2,199 kB]\n",
            "Get:22 http://ppa.launchpad.net/c2d4u.team/c2d4u4.0+/ubuntu bionic/main amd64 Packages [918 kB]\n",
            "Get:23 http://archive.ubuntu.com/ubuntu bionic-updates/multiverse amd64 Packages [34.4 kB]\n",
            "Get:24 http://archive.ubuntu.com/ubuntu bionic-updates/main amd64 Packages [2,730 kB]\n",
            "Fetched 12.8 MB in 3s (3,839 kB/s)\n",
            "Reading package lists... Done\n",
            "Reading package lists... Done\n",
            "Building dependency tree       \n",
            "Reading state information... Done\n",
            "The following package was automatically installed and is no longer required:\n",
            "  libnvidia-common-460\n",
            "Use 'apt autoremove' to remove it.\n",
            "The following additional packages will be installed:\n",
            "  chromium-browser chromium-browser-l10n chromium-codecs-ffmpeg-extra\n",
            "Suggested packages:\n",
            "  webaccounts-chromium-extension unity-chromium-extension\n",
            "The following NEW packages will be installed:\n",
            "  chromium-browser chromium-browser-l10n chromium-chromedriver\n",
            "  chromium-codecs-ffmpeg-extra\n",
            "0 upgraded, 4 newly installed, 0 to remove and 52 not upgraded.\n",
            "Need to get 91.8 MB of archives.\n",
            "After this operation, 315 MB of additional disk space will be used.\n",
            "Get:1 http://archive.ubuntu.com/ubuntu bionic-updates/universe amd64 chromium-codecs-ffmpeg-extra amd64 92.0.4515.159-0ubuntu0.18.04.1 [1,124 kB]\n",
            "Get:2 http://archive.ubuntu.com/ubuntu bionic-updates/universe amd64 chromium-browser amd64 92.0.4515.159-0ubuntu0.18.04.1 [81.7 MB]\n",
            "Get:3 http://archive.ubuntu.com/ubuntu bionic-updates/universe amd64 chromium-browser-l10n all 92.0.4515.159-0ubuntu0.18.04.1 [4,026 kB]\n",
            "Get:4 http://archive.ubuntu.com/ubuntu bionic-updates/universe amd64 chromium-chromedriver amd64 92.0.4515.159-0ubuntu0.18.04.1 [4,902 kB]\n",
            "Fetched 91.8 MB in 3s (28.7 MB/s)\n",
            "Selecting previously unselected package chromium-codecs-ffmpeg-extra.\n",
            "(Reading database ... 148486 files and directories currently installed.)\n",
            "Preparing to unpack .../chromium-codecs-ffmpeg-extra_92.0.4515.159-0ubuntu0.18.04.1_amd64.deb ...\n",
            "Unpacking chromium-codecs-ffmpeg-extra (92.0.4515.159-0ubuntu0.18.04.1) ...\n",
            "Selecting previously unselected package chromium-browser.\n",
            "Preparing to unpack .../chromium-browser_92.0.4515.159-0ubuntu0.18.04.1_amd64.deb ...\n",
            "Unpacking chromium-browser (92.0.4515.159-0ubuntu0.18.04.1) ...\n",
            "Selecting previously unselected package chromium-browser-l10n.\n",
            "Preparing to unpack .../chromium-browser-l10n_92.0.4515.159-0ubuntu0.18.04.1_all.deb ...\n",
            "Unpacking chromium-browser-l10n (92.0.4515.159-0ubuntu0.18.04.1) ...\n",
            "Selecting previously unselected package chromium-chromedriver.\n",
            "Preparing to unpack .../chromium-chromedriver_92.0.4515.159-0ubuntu0.18.04.1_amd64.deb ...\n",
            "Unpacking chromium-chromedriver (92.0.4515.159-0ubuntu0.18.04.1) ...\n",
            "Setting up chromium-codecs-ffmpeg-extra (92.0.4515.159-0ubuntu0.18.04.1) ...\n",
            "Setting up chromium-browser (92.0.4515.159-0ubuntu0.18.04.1) ...\n",
            "update-alternatives: using /usr/bin/chromium-browser to provide /usr/bin/x-www-browser (x-www-browser) in auto mode\n",
            "update-alternatives: using /usr/bin/chromium-browser to provide /usr/bin/gnome-www-browser (gnome-www-browser) in auto mode\n",
            "Setting up chromium-chromedriver (92.0.4515.159-0ubuntu0.18.04.1) ...\n",
            "Setting up chromium-browser-l10n (92.0.4515.159-0ubuntu0.18.04.1) ...\n",
            "Processing triggers for man-db (2.8.3-2ubuntu0.1) ...\n",
            "Processing triggers for hicolor-icon-theme (0.17-2) ...\n",
            "Processing triggers for mime-support (3.60ubuntu1) ...\n",
            "Processing triggers for libc-bin (2.27-3ubuntu1.2) ...\n",
            "/sbin/ldconfig.real: /usr/local/lib/python3.7/dist-packages/ideep4py/lib/libmkldnn.so.0 is not a symbolic link\n",
            "\n"
          ],
          "name": "stdout"
        },
        {
          "output_type": "stream",
          "text": [
            "/usr/local/lib/python3.7/dist-packages/ipykernel_launcher.py:10: DeprecationWarning: use options instead of chrome_options\n",
            "  # Remove the CWD from sys.path while we load stuff.\n",
            "/usr/local/lib/python3.7/dist-packages/ipykernel_launcher.py:11: DeprecationWarning: use options instead of chrome_options\n",
            "  # This is added back by InteractiveShellApp.init_path()\n"
          ],
          "name": "stderr"
        }
      ]
    },
    {
      "cell_type": "markdown",
      "metadata": {
        "id": "GrJ4VnBGEaTp"
      },
      "source": [
        "Now we simply insert our url."
      ]
    },
    {
      "cell_type": "code",
      "metadata": {
        "id": "dgSleDSGTfRY"
      },
      "source": [
        "url=\"https://sginvestors.io/sgx/stock/5g1-eurosports-gbl/company-announcement\"\n",
        "\n",
        "driver.get(url)"
      ],
      "execution_count": null,
      "outputs": []
    },
    {
      "cell_type": "code",
      "metadata": {
        "id": "FeM29ug4U3x-"
      },
      "source": [
        "driver.Url = \"https://www.sgx.com/securities/company-announcements?value=EUROSPORTS%20GLOBAL%20LIMITED&type=company&from=20210101&to=20210824\""
      ],
      "execution_count": null,
      "outputs": []
    },
    {
      "cell_type": "code",
      "metadata": {
        "id": "7nf1OPIej5Nx",
        "colab": {
          "base_uri": "https://localhost:8080/",
          "height": 302
        },
        "outputId": "8b702363-290a-4dba-d8e9-0f346f6a1b87"
      },
      "source": [
        "#Had to pause for a while to avoid the website from detecting us\n",
        "import time \n",
        "time.sleep(5)\n",
        "\n",
        "#The main url contains a lot of subsidiary urls - we will collect all the links, then download the pdfs on that page.\n",
        "elemLs=[]\n",
        "elems = driver.find_elements_by_xpath(\"//a[@href]\")\n",
        "print(driver.current_url)\n",
        "for elem in elems:\n",
        "    x=elem.get_attribute(\"href\")\n",
        "    #print(x)\n",
        "    elemLs.append(x)\n",
        "    \n",
        "\n",
        "print(elemLs)\n",
        "\n",
        "#luckily only urls that contain 'links' has pdfs, so only keeping links that contain pdfs\n",
        "import re\n",
        "elemLs = [x for x in elemLs if re.match(r'https://links.sgx.com',x)]\n",
        "\n",
        "print(driver.current_url)\n",
        "#for each link, we download the pdfs.\n",
        "import urllib.request\n",
        "\n",
        "print(url)\n",
        "\n",
        "for link in elemLs:\n",
        "    time.sleep(5)\n",
        "    driver.get(link)\n",
        "    pdfLs=[]\n",
        "    elems = driver.find_elements_by_xpath(\"//a[@href]\")\n",
        "    for elem in elems:\n",
        "        x=elem.get_attribute(\"href\")\n",
        "        pdfLs.append(x)\n",
        "\n",
        "    labels = driver.find_elements_by_xpath('/html/body/form/div[3]/div/div[2]/div[3]/dl/dd[2]') #finds time and date\n",
        "    n=1\n",
        "    for pdf in pdfLs: \n",
        "        #instead of accessing the website as user agent, which eventually results in a website ban, we have to temporarily open a new browser to access it which overcomes the problem\n",
        "        opener = urllib.request.build_opener()\n",
        "        opener.addheaders = [('User-agent', 'Mozilla/5.0')]\n",
        "        urllib.request.install_opener(opener)\n",
        "        urllib.request.urlretrieve(pdf, labels[0].text.replace(':','')+'_'+str(n)+'.pdf')\n",
        "        n+=1"
      ],
      "execution_count": null,
      "outputs": [
        {
          "output_type": "stream",
          "text": [
            "https://sginvestors.io/sgx/stock/5g1-eurosports-gbl/company-announcement\n",
            "['https://sginvestors.io/', 'https://sginvestors.io/', 'https://sginvestors.io/', 'https://sginvestors.io/sgx/stock/5g1-eurosports-gbl/company-announcement#', 'https://sginvestors.io/market/ftse-st-indices-straits-times-index-constituents', 'https://sginvestors.io/market/sgx-market-information/', 'https://sginvestors.io/market/sgx-share-price-performance/straits-times-index-constituents', 'https://sginvestors.io/market/sgx-top-volume', 'https://sginvestors.io/market/sgx-top-value', 'https://sginvestors.io/market/sgx-top-gainers-by-percent', 'https://sginvestors.io/market/sgx-top-gainers-by-value', 'https://sginvestors.io/market/sgx-top-losers-by-percent', 'https://sginvestors.io/market/sgx-top-losers-by-value', 'https://sginvestors.io/market/sgx-breakout-price-3-month-high-volume-above-average', 'https://sginvestors.io/market/sgx-breakout-price-3-month-low-volume-above-average', 'https://sginvestors.io/market/sgx-breakout-price-52-week-high', 'https://sginvestors.io/market/sgx-breakout-price-52-week-low', 'https://sginvestors.io/market/sgx-breakout-volume-above-average', 'https://sginvestors.io/market/sgx-top-short-sell-by-volume', 'https://sginvestors.io/market/sgx-top-short-sell-by-value', 'https://sginvestors.io/sgx-mygateway/', 'https://sginvestors.io/market/sgx-fund-flow-summary', 'https://sginvestors.io/market/sgx-fund-flow-weekly-cumulative', 'https://sginvestors.io/market/sgx-fund-flow-weekly-statistics', 'https://sginvestors.io/market/sgx-weekly-top-turnover-institutions-retailers-buy-sell/', 'https://sginvestors.io/sgx/stock-listing/alpha', 'https://sginvestors.io/sgx/reit-listing/alpha', 'https://sginvestors.io/sgx/stock/5g1-eurosports-gbl/company-announcement#', 'https://sginvestors.io/analysts/analysts-say', 'https://sginvestors.io/analysts/stocks/', 'https://sginvestors.io/analysts/market-strategy/', 'https://sginvestors.io/analysts/sector/latest/', 'https://sginvestors.io/analysts/target-price/latest', 'https://sginvestors.io/analysts/target-price/substantial-upside-downside', 'https://sginvestors.io/analysts/target-price-average/5-or-more-recommendations', 'https://sginvestors.io/analysts/sti-straits-times-index-constituents-target-price', 'https://sginvestors.io/analysts/singapore-s-reit-target-price', 'https://research.sginvestors.io/p/analysts-say-model-portfolio.html', 'https://research.sginvestors.io/p/bloggers-say.html', 'https://sginvestors.io/sgx/stock/5g1-eurosports-gbl/company-announcement#', 'https://sginvestors.io/news/publishers/latest/', 'https://sginvestors.io/news/company-announcement/latest/', 'https://sginvestors.io/news/sgx-listed-companies-share-buy-back', 'https://sginvestors.io/news/sgx-upcoming-dividend-capital-issue-entitlement', 'https://sginvestors.io/sgx/stock/5g1-eurosports-gbl/company-announcement#', 'https://sginvestors.io/info/brokers', 'https://sginvestors.io/info/analyst-recommendation-framework', 'https://sginvestors.io/resources/sgd-currency-fx-rate', 'https://research.sginvestors.io/2015/05/what-do-ftse-st-indices-represent.html', 'https://sginvestors.io/site/about-us', 'https://sginvestors.io/', 'https://sginvestors.io/sgx/stock-listing/alpha', 'https://sginvestors.io/sgx/stock/5g1-eurosports-gbl/stock-info', 'https://sginvestors.io/sgx/stock-listing/sector/consumer-discretionary', 'https://sginvestors.io/sgx/stock/5g1-eurosports-gbl/stock-info', 'https://sginvestors.io/sgx/stock/5g1-eurosports-gbl/share-price-history', 'https://sginvestors.io/sgx/stock/5g1-eurosports-gbl/target-price', 'https://sginvestors.io/sgx/stock/5g1-eurosports-gbl/analyst-report', 'https://sginvestors.io/sgx/stock/5g1-eurosports-gbl/corporate-action', 'https://sginvestors.io/sgx/stock/5g1-eurosports-gbl/company-announcement', 'https://sginvestors.io/sgx/stock/5g1-eurosports-gbl/news-article', 'https://sginvestors.io/sgx/stock/5g1-eurosports-gbl/blog-article', 'https://links.sgx.com/1.0.0/corporate-announcements/W3P7LQIZ25A9RMWS/00b13c5fcb5543f719912b3322bb73eade64e56141c83a2df1ea1aef7cad36fa', 'https://links.sgx.com/1.0.0/corporate-announcements/A9VX26O3DUG0XDIU/9d53e669c1b4d58aaf9884a8794322c2ff6424bc02172b332a43382196f5eba4', 'https://links.sgx.com/1.0.0/corporate-announcements/WC2W21PE6PIOANJQ/d4a3b0020cd2d037fdbcd2acbf02dc1e812f758037a1377a29f4cb74ed91f8c3', 'https://links.sgx.com/1.0.0/corporate-announcements/O45MHDKDBPHL2LOO/4c9f833385015b1d9772194d0dd5deb087ded4e829a036795878aedf67269846', 'https://links.sgx.com/1.0.0/corporate-announcements/CNA5A977GEW4ZQE4/68f5bd7ee7c98646bd29d75f4a73e9829a79ad05a0f0c2246c87a8e951723903', 'https://links.sgx.com/1.0.0/corporate-announcements/OHFH81HH13YON00L/762ca8eb0a034ca14e32a0546f1c9f7b2a4ff5d96378b5b78a13df071cc929d9', 'https://links.sgx.com/1.0.0/corporate-announcements/P19G199KFLGGEC8C/3ed53245679ba3840d32404a169d1b684fc67340441080f4d7a0ee875beffaf8', 'https://links.sgx.com/1.0.0/corporate-announcements/PEFSD749N7XLG51H/8409eb578ae9187b92c2f748028a0dcc5f014240ab388b0d7fee1b39121c276b', 'https://links.sgx.com/1.0.0/corporate-announcements/08C04ZWPAK6VDM72/b01feb904daa1c2032e4eb4d2f572fb51f27582e5ec679e110ad0122dabb9f0c', 'https://links.sgx.com/1.0.0/corporate-announcements/SVUL8QKK51J0F7YQ/a0192838653df7b5edabfb9df226eb87625c8d2aa876ac2c1f1f40d1d3b77dbc', 'https://links.sgx.com/1.0.0/corporate-announcements/MSWA7Z0TY0VTSL1E/50863c59b0c94e8fa9defd0358d93b55c5e72e658494693223262616dec25f66', 'https://links.sgx.com/1.0.0/corporate-announcements/TC2I7MGNW4FQF78E/f516720d7a5b802b9e67b4c9bedff90006adc5ef4e79c75b395ee54fa925c7af', 'https://links.sgx.com/1.0.0/corporate-announcements/4ZBYAR8NAFJR6NTM/d553398154c7e1408ee82e0a572e716adb8ad6fdcc135c4f72184db74552ac78', 'https://links.sgx.com/1.0.0/corporate-announcements/PMKE0MJ60TF2JCA8/0353556f0f5593550b822496dfddda1aea95396197af6e115ff0f72f9fb97a30', 'https://links.sgx.com/1.0.0/corporate-announcements/9T8DRBB8ENYPCES4/03c4fc90e3d102e11b062c8dbfdb36f57bd318820b998cfc043e86ed7bbdd6cd', 'https://links.sgx.com/1.0.0/corporate-announcements/6PEK44A4MWZBDTRR/12ee0f391fda18b8347329bce2dae864746ecf34f5f9aa8d812dcd7c826a4005', 'https://links.sgx.com/1.0.0/corporate-announcements/7N1JTAJKK3YTS1PT/e5114bf200b03e5e1825a1078ce13128c38d9b06c7922fff24c4b98284bac0b3', 'https://links.sgx.com/1.0.0/corporate-announcements/G6PP8KJ1UAA0OQ6S/8cfe2d71b92508f09bd0aee5d3e0ee766129a5d47b4af99a7d7e477833339241', 'https://links.sgx.com/1.0.0/corporate-announcements/3IL1PV0B66TDAEE3/6953b208b4c59e9dc5e393e46d4d46fe6712f2c95b5416d0bf7ef090ef6a8486', 'https://links.sgx.com/1.0.0/corporate-announcements/MEP60T7CA0UT92U4/e0f7eb27ce2104a3fadee9127324af85a27acb4e800085955953f7010e7d70d7', 'https://links.sgx.com/1.0.0/corporate-announcements/KO6JJNJV91U3J7V9/b121287b811c8a96ec70f668d8175aae607945e6ce714935ae3778b370b91114', 'https://links.sgx.com/1.0.0/corporate-announcements/5NN2KTGFBJJB4QGY/23817bfc7d5a9db74d15f098bd67a284fb325cf5c59fe3fb78dca6da0dfefd0f', 'https://links.sgx.com/1.0.0/corporate-announcements/C8OLYR4RQUV6JQ1Z/90a40d3ed915357258c57c043fbd4cfed4ee3b4ee789fb07c306e4e563ebaffe', 'https://links.sgx.com/1.0.0/corporate-announcements/7GZU1KCKA0W6JMEB/76fc9a66a60c94328b25d3021e9cd0e0f120e6c75735cc1feaac2a7f984cdf1f', 'https://links.sgx.com/1.0.0/corporate-announcements/YEYC2KXWVQQAAYDD/6bdfc6de1044eba582fb82b78d368798a1d9fdef0f445dda93bb536f53d3b613', 'https://links.sgx.com/1.0.0/corporate-announcements/92Y7169FDWNY0DZ5/16d96722d32c8b1a8fac392d70af8bc75a4d5a4a016071986c6d34c9b1820907', 'https://links.sgx.com/1.0.0/corporate-announcements/N46AME9XWDHKML1R/4346c7bb52b691b9764d9b30b9f7770fa5513b3b0bb60342b191aae3ddfa312f', 'https://links.sgx.com/1.0.0/corporate-announcements/QWTSZDKEU6IDABKX/f2d5c6ff594a304fafaa336329aa4e92fef678750a7bd8623ffe794cfaf2561e', 'https://links.sgx.com/1.0.0/corporate-announcements/V298CLGHTZ06E93F/e3f9286d654397112b24a7f2180a51aa269c6e24b41f8143a407e7551f7af5f2', 'https://links.sgx.com/1.0.0/corporate-announcements/P69SMORCKBWOZHEH/ab046529d3ba41efde1dee595f300aea769af6574c2b55a3c25aa1ddf89d2926', 'https://links.sgx.com/1.0.0/corporate-announcements/NLLITH7W7KZ6D1D6/94762b4e7ecd0f2cec285a6b0fef3c88a8903dc45ddd325827bc3605caf1e84a', 'https://links.sgx.com/1.0.0/corporate-announcements/X0KJCMV8ZM4H0T21/b086fdee83c82886f4f0a3051f1e6b287b510ff4c2c77730ea087ceaba5bfefa', 'https://links.sgx.com/1.0.0/corporate-announcements/MOTS4W6AWBFSOEMS/2ef67b635996ce2473cca62fb22716c737400a27d47c308c85480dfc10e128e7', 'https://links.sgx.com/1.0.0/corporate-announcements/4DAU76B70GVCMCW5/225b45a89c15cf1f50ba9daf395d242af280c2c649788428bb73982d37f9cff1', 'https://links.sgx.com/1.0.0/corporate-announcements/G3J7RYUWGPPS74PW/ac5e6fb4995133e0f76bfb6b0639d97360b711a1b87eb5ad2c6166d2be4b0e5e', 'https://links.sgx.com/1.0.0/corporate-announcements/ZFPJDNGRI3CX2HRG/820b36b739a1976cb3328dc0e4c1a2afe5b56ff7112c94a28a0d63798cf54ad5', 'https://links.sgx.com/1.0.0/corporate-announcements/CC4XJTTF8ABWX4YG/0b415f434d27a8a288921d9b13571706135c555ac9f56f268c02b908b197949b', 'https://links.sgx.com/1.0.0/corporate-announcements/00L6HADU5K10TORV/88754eb07478d0ab4e7d2918aa9e6b189cc11054a878bdc3a79e139a92248cbf', 'https://links.sgx.com/1.0.0/corporate-announcements/LKQKTF7H83DWPUT9/9e8c355d3315bb55d482e7cd3f6ce7d0374a8be1d4c6f999341bc7bef590b60c', 'https://links.sgx.com/1.0.0/corporate-announcements/0Y2K5CA9C89PP5HY/3ea6d9a18bcd8fb6d66d814dd404daa72d2efe59001889223f79639f50b32d55', 'https://links.sgx.com/1.0.0/corporate-announcements/0HQSK3P0YNUNTOUH/6305181e2a5754b54ee7ac644b9894ce8a57494a29e49741af2f7b0e201cdc8e', 'https://links.sgx.com/1.0.0/corporate-announcements/LR8X1WR7TXOOR1MP/2554301ccd7faf5c795b3d8d36c4e9e094bc02d1694b11fd100d781569e49bf2', 'https://links.sgx.com/1.0.0/corporate-announcements/CKO5NGNM4YK85WZN/3b875e40c7391d5fb7e64e8bf483b7b51ac7d0f77dc63e033e369416f9bf489b', 'https://links.sgx.com/1.0.0/corporate-announcements/QTVJYKBTQWMATH1I/8667063f0de626e155eff6bff781fde7a4ab6cf0ff37cfdc77706dd8b24dd5f8', 'https://links.sgx.com/1.0.0/corporate-announcements/O09I46QNS4T7J9WB/b3f01395560c4d727e7467979e903ba844785e3f275628713daaf9edb90bc5f4', 'https://links.sgx.com/1.0.0/corporate-announcements/FSFISZ2FZ09JRS9M/e020922f6cb13d8e3cd2702e3e600b746bc26b9f155c596da6a5b012c9e9381f', 'https://links.sgx.com/1.0.0/corporate-announcements/2GWG9T3ZYUDIYZO1/5c50a6654d0649628156c84bb0c5dfc86118dfe179a484b8d05ea75d15427c3f', 'https://links.sgx.com/1.0.0/corporate-announcements/7MPMN866MA0L2V21/f7ab40aefcb25d3e610bb93203b939edf3c6921752120e5a55ba475ded0b96bd', 'https://links.sgx.com/1.0.0/corporate-announcements/J2A4Q834U1K18P57/2aaf6c5d274d144b949e129db42e94f88ed5df45b4bb23c8836a24f33c4752ee', 'https://links.sgx.com/1.0.0/corporate-announcements/NDY92FDU4I6GRR1S/a296af6dcfc338e420f6645000d945467ecaf8e13e6e335fd7387185f421f77e', 'https://links.sgx.com/1.0.0/corporate-announcements/YJ1OGEKMI1W6OFUM/b8c0f1add7e982a4fdd9dcde0e0606cdfe9a9e198dac5a42edf24d6444a579e8', 'https://links.sgx.com/1.0.0/corporate-announcements/MHFP2MV3A17UOSPU/acc5d165be2ef3dab049f3780d35b2c4e12fe969f93b7da83624b4caf61b1e65', 'https://links.sgx.com/1.0.0/corporate-announcements/7Q4Z21ZQVODLMAN4/b25cb296983e13dd94c0fbbd29ae0890c52401c4b20b9ff050b300462b3880ec', 'https://links.sgx.com/1.0.0/corporate-announcements/873E97WYDFB9EDH6/8b4b2c9c17f0cc4ebbb83328d2a54c1c3b8ce1f7580e472715754150fd7d2190', 'https://links.sgx.com/1.0.0/corporate-announcements/KVX69PXCXM29UT04/8635b1fc1356f4f97ceba4226b73710c63653ca70806a31ee99f8e24d8f8232d', 'https://links.sgx.com/1.0.0/corporate-announcements/TA26Z2W8LTSAAZM4/ec6fe618dacae70a79c2c29ea434e26f18aa25a326077d6ecc31bc24cf83e9b2', 'https://links.sgx.com/1.0.0/corporate-announcements/R9XEPL74DRU543DV/3fbcc90afcca21b93adddbe21436201bf92030b0c969e224a414f72fcced594c', 'https://links.sgx.com/1.0.0/corporate-announcements/CVK5UYSIZGG96MRV/b543a6636f36aa62b870a6b369c828c57938d0dd2cb7810aebffcdba4872b188', 'https://links.sgx.com/1.0.0/corporate-announcements/N2P1KZ57XUZVY3O5/8afa7fe209e0f270d8f2f7e9252293694c61833bb80e906ff27857a08471eab3', 'https://links.sgx.com/1.0.0/corporate-announcements/MU5MJQCKMWJ8PCNI/3d8a660f60afb4668399adad6faf08fbdbe0f40059d75600c51b2c421edf9311', 'https://links.sgx.com/1.0.0/corporate-announcements/74JKG22WD6PZ3R8X/fe1d000df1e65f059101a2d7acdad3ad46849bc7ccd206eff31f5e436535c3c6', 'https://links.sgx.com/1.0.0/corporate-announcements/IC2D8CLIBRJ3WUPH/cc4c45f2cab9da4302a78e9e6bcd91169340513ed7af42e183f60d3e9cf88990', 'https://links.sgx.com/1.0.0/corporate-announcements/UO1PN0429J2SZ2RM/be43b9a4564f9650ad432fdb48c170d3f82280bd7811ada4d965c4c749b084fd', 'https://links.sgx.com/1.0.0/corporate-announcements/AE2KOO6IKJWHXYNR/84f6a4e7054ee86070276c58f24111a9a5f4d5831906de7578254a8449845171', 'https://links.sgx.com/1.0.0/corporate-announcements/Q5QEEGRWE7OVCCRX/74140ec17cea274453f6f2d1e5947fd29d79d4ca6b7ebeab3d3b95c82b97a168', 'https://links.sgx.com/1.0.0/corporate-announcements/A984ITOYCOJWN2MV/38fb70bdb9e3e32f7612fcacab5fa7728755d3f34b0231fb3bf4c9da5ea22695', 'https://links.sgx.com/1.0.0/corporate-announcements/EUKS4DVCX7AGAABQ/aa0b27b65a701d0f805ad0ac8c7063b492d40664ce78bf1b3dda1a1375c35062', 'https://links.sgx.com/1.0.0/corporate-announcements/JZQ4VFJ50APWQE3Y/09530e6670083e43d7f8e352b65bb685057da8d2b398611df8213ca44876e37d', 'https://links.sgx.com/1.0.0/corporate-announcements/A9MNFH3Y4SSNJQRV/870a4a7be6ffb5205cba7ca5b5f9092be22a98bb43474004fad40164e365cb79', 'https://links.sgx.com/1.0.0/corporate-announcements/ZQXDT7Y1XCB9QFWL/3f019cd81352c79488fce6409d48cc8c1d392f2631445952ad39a455ed241588', 'https://links.sgx.com/1.0.0/corporate-announcements/TYM7HNUE2D1ZGBLZ/608b364d8ed9d2183340ec9cd7d9efea305118b254d15f268d4e263928657719', 'https://links.sgx.com/1.0.0/corporate-announcements/V4H4SZA44LC4G10P/f19baeffefec3c978ec3d20184b838adb5f3249b0cff6dece3b42a5032d1d603', 'https://links.sgx.com/1.0.0/corporate-announcements/OFKWKART5T9CY599/b34ad2fa36009ff18f1bfb65f28413fdf8365f6824d120a6df775a6d427c713a', 'https://links.sgx.com/1.0.0/corporate-announcements/7TQ3WXGZ6K1JFI7N/11fb8c95b92515a49da18a617d6f8bbfc9020e48b617f363e68ec2e617341920', 'https://links.sgx.com/1.0.0/corporate-announcements/0RG74WIYPGE74IN3/644af9303bc092aedee233d91ca5a30759a42f9de7fdd96ff12d5ab1e84eaa2a', 'https://links.sgx.com/1.0.0/corporate-announcements/Q1PRXA51JIHQS7WT/17c646bd379ae20a9ce333802d47a0ab33731eae198411bb4cf8225cc6c3b407', 'https://links.sgx.com/1.0.0/corporate-announcements/N3LJBY351E871JDY/d798141c2219b8a6f25193f76a9b2f5d0fc4c850edd7f36615adb36b024e8186', 'https://links.sgx.com/1.0.0/corporate-announcements/YQS3JR9M26WKD6B3/53786598ca4dd73938628508bb34f0aa3e65d256b3b9bec1f9fa89e24ed1ccec', 'https://links.sgx.com/1.0.0/corporate-announcements/QD0TKGXKJXSCJRNE/8355325a7867c6d03a65cb9818bbdf768a5673a778ed9d58e9dd45659b9edf78', 'https://links.sgx.com/1.0.0/corporate-announcements/3JT62GKVP6N6DKQL/dd02500be6db49bf4faed529f9d7abd05511da2ff46219f146bddd9fa84f2843', 'https://links.sgx.com/1.0.0/corporate-announcements/LZWUXVKN05ZQXZ68/2c09b08fc2f5753f65df21fc4f8c12eaf93ed7d3741e041c7406c606a5a68b77', 'https://links.sgx.com/1.0.0/corporate-announcements/06GSEA0T4MI7437I/3260b6a05bc9f71fd48eafc338bff4d0a2d11fa7dd02ba6a08a3035262984225', 'https://links.sgx.com/1.0.0/corporate-announcements/15IC3MPXBHFRHFUT/4d30b59eb451192bba9d0ac3c8d41776c9725ec7560bce69d24ecdc893ccfb58', 'https://links.sgx.com/1.0.0/corporate-announcements/57TZVHOPMJP8TZJJ/51f5f7be5b0ae07177cdeebe81e3d16e065ea9d2633687c32ed7b98e22b83517', 'https://links.sgx.com/1.0.0/corporate-announcements/REYF3NWB0CWSIOK8/4a54aafa0e9c688666913bf4d5f0631465f00663d4fe0a8f30f83790671088fa', 'https://links.sgx.com/1.0.0/corporate-announcements/JVS2ZIGFU57I8PEV/cef024192b24efaaeb13c7a3df25c495c558c00a4a15a4035236ed49b852bc84', 'https://links.sgx.com/1.0.0/corporate-announcements/PI18ZDF3G3SOG13P/0d570b72560652e922765f13fca0de0ad22ed4fb8d12340ce8432a636b6d6e8e', 'https://links.sgx.com/1.0.0/corporate-announcements/0AFLJKY1O18BDQZU/31e1f5eae5efcfb257faa45e251d6962d1e84f742c1f72f56387d2ecfa312787', 'https://links.sgx.com/1.0.0/corporate-announcements/8U10CVZ7T0WJWXCO/e49bba3733f24194e1380ed5a9f16adb428e1ceb7c0c57641897ed4125012080', 'https://links.sgx.com/1.0.0/corporate-announcements/JTVABMP1G2FLPKJW/be9e2f89551d4acdae3dc1a88f9f249411e73fab60f08caffd17e8dc96cdc2ef', 'https://links.sgx.com/1.0.0/corporate-announcements/EOYVO0YXGFC0MFRW/c308d2ea2e70e250989182452aa4212c36602761f38e0cadd53e7d007ae848be', 'https://links.sgx.com/1.0.0/corporate-announcements/7THD7MPJLSS541S0/af836f8205b7055bd038e7f6914284ecfa8a0f85a9c88805ec6bde20b2b46770', 'https://links.sgx.com/1.0.0/corporate-announcements/27AOWK9E3ZN2434F/cb449af9b0932d8d0bf04a4af2fabf0a428006b059fa5322578ce57845a859ae', 'https://links.sgx.com/1.0.0/corporate-announcements/RLBHBI5BB06GMIZ7/485a4705acdd58af3c5fa6e3134b71f1511d89efa0f5b948cfe6b54b02a3a65e', 'https://links.sgx.com/1.0.0/corporate-announcements/RK3ABBKTT400HSGS/e5b52e8d790d08dd6ff8c37aace7222abfea4372aa15711d8cc49c8a08f14845', 'https://links.sgx.com/1.0.0/corporate-announcements/DH3TMI7GA2E3IPR3/ce7225332508170226695a0ac8cfd60314841ca5e9ab9a40ea2593916a8b12dd', 'https://links.sgx.com/1.0.0/corporate-announcements/NZ96FW8SNI3P3UIK/b165a5b805573468318b5f2cf358290a6e2beea963019c0251f87c9e84091e63', 'https://links.sgx.com/1.0.0/corporate-announcements/4Z60VBJ9KE6DZV50/f56f00f27ccffe74ab5a5f415e4b491843bfe71aa2f2cb18e903d064f46a42cd', 'https://links.sgx.com/1.0.0/corporate-announcements/E2UY39625J70BXDO/86df57d24920d7543be977903cbbf9ed8315f57e85e9e21f24e93b54226b7bd2', 'https://links.sgx.com/1.0.0/corporate-announcements/SD9ZMDKRPVKOOERM/d73d22fa8046ae353e7e4c69f4a980523d26dd978b53b5bd440efb7ee20d56db', 'https://links.sgx.com/1.0.0/corporate-announcements/2PJKLE88OZPX6PW6/72a6b0db527e7adc068b778591776adf720c80d1681ae548812ef67c295f6e14', 'https://links.sgx.com/1.0.0/corporate-announcements/QI8DC7DSF3KUTQ89/6afa9116b15e9c9000d8de4dea1c4175e2db18c54a8f1f28d30ef2cf1a8bb366', 'https://links.sgx.com/1.0.0/corporate-announcements/KKTT5YAZ2W662HBE/1435196747f7251a3a83593d5114e0b24789b4fa2d51b52d1b8735d067412375', 'https://links.sgx.com/1.0.0/corporate-announcements/LMDPDOE60GNA7WEB/8cd433d5f6e12d7996919ac5b89461d4e15d3dd860a89cedd31e962fabe18f65', 'https://links.sgx.com/1.0.0/corporate-announcements/KBLNCNKGO80IUOZJ/2195c964fd4c524d9b4b5931aaa19742cd026fcb0bd9156c5ab181679fc662ac', 'https://links.sgx.com/1.0.0/corporate-announcements/YAQCYVA2CEMSPA03/4b2eaf531cc2511a370dbeefb4e24f3899fc92c8870d30cf6f075609c84e6adf', 'https://links.sgx.com/1.0.0/corporate-announcements/XUTR6T9ZXOBRX7AW/6083b1c102019e619681bf4c9cc04362b2ae2b8fd392a6cc6822151fe4400dd5', 'https://links.sgx.com/1.0.0/corporate-announcements/W93986Z3QISCD7VE/475e887312d9a7d7e62436cda3811e339f502cff71542d94ea44c4dcb7136a41', 'https://links.sgx.com/1.0.0/corporate-announcements/OX3FHTLK2U0S8DFC/86f25f60fa33cf73f089a70cfc0cc290cc14e5bb86fae8b2236a988637c36143', 'https://links.sgx.com/1.0.0/corporate-announcements/SZFO02G9JMENTUT7/63e081221f927fc04bd8647e1ff5794ea09df372f07127902b89720524e8851f', 'https://links.sgx.com/1.0.0/corporate-announcements/BW1GH0C6VJGPBHUG/0dd6f1073592e8e5f0ee2d7fef47e608a1af3db0553d6f51e7fb4c48f3e24c9c', 'https://links.sgx.com/1.0.0/corporate-announcements/DUHD2YGGSNZFW1MX/0b9201751c94b36ed248c4727e0f24f96a108366d14eabdb33b9fd9541b092d5', 'https://links.sgx.com/1.0.0/corporate-announcements/UW7ASSHWJ8DIE60I/c8ac13d2fd813613f782d58af2e57b97d2483286991f87534a568abf137ab18c', 'https://links.sgx.com/1.0.0/corporate-announcements/O7GJH412HUPGVVM5/df8338e2af6f7749cad5dbf7eae1ea849791b720ec375e3d0d80278714fcf68d', 'https://links.sgx.com/1.0.0/corporate-announcements/JPPI0MX0RTRXYBU6/2040bc705ace72fb42ab6bba2b95e2a4ef2a85a49fb66bd1eaf5c4140ba7546f', 'https://links.sgx.com/1.0.0/corporate-announcements/VMOISWLWFNOQ4DD6/45f16ee17e0156dc44e96302bceece40e239c8bd1ce7d48481a29cfbfae5a76d', 'https://links.sgx.com/1.0.0/corporate-announcements/ACKBPBWBK5KHYOXN/1113a95b88f1a8b571ac0e3e8ac3cb9a36b9d969b618ce3be99b3802d24fd4b5', 'https://links.sgx.com/1.0.0/corporate-announcements/HXANW1DU7SYOUIFR/cef95ea6468e5e6c5914b8df26373c79a816fa5a4c62d9d2d917b6a9900721c1', 'https://links.sgx.com/1.0.0/corporate-announcements/7JKRHHWJKR3I5S6J/0ef317f0330c69c62daa03a1ce59e59202cade66d8c9014ade80ac6f9b617753', 'https://links.sgx.com/1.0.0/corporate-announcements/VBVAQXE3Y5V3A13U/0e73f2a04c6ef8bf03aaf3b6892565b4974b73ef05b57a76eeccc651dd1ee98c', 'https://links.sgx.com/1.0.0/corporate-announcements/THNAYNAVAO7PD0EA/5ac7a8b1d8a0672e74c1540fceb2e4bf32cd1798340ba6b55e76ee534b96847c', 'https://links.sgx.com/1.0.0/corporate-announcements/9CHT0YD1SAQ3PRSC/e7f9bb31796c3c79fc6d8941f3ac3b8b17cedd8d6ee742d1d73f307bdc185ff3', 'https://links.sgx.com/1.0.0/corporate-announcements/F2SY0V2BJWIU7BKT/ed0261f2cb796b8e0672e4ca79e46d6b2e3c546dac937faecc1223aa1dfb2222', 'https://links.sgx.com/1.0.0/corporate-announcements/D3IU3RHYL9KEF24A/47e17687beba3426e769fda6da0d3bbbc778a287afbac1d620ba42f2f5bb91ff', 'https://links.sgx.com/1.0.0/corporate-announcements/FUQT1VXPBUFDZULL/b1d516dd7f662cd3259d6de794db7fb336b80b8a9efd1b46cc12cf6ffdb03b79', 'https://links.sgx.com/1.0.0/corporate-announcements/BKWE0XXUIU2C45EN/5f95608db28af485353c90ad619879e20948de398825929ae9e516ed7eeda336', 'https://links.sgx.com/1.0.0/corporate-announcements/XM5W8K0IEJUPAGA6/30a8403944c0b891c53a99c54e69e5557198bcede5502bf63f06e0382c929d95', 'https://links.sgx.com/1.0.0/corporate-announcements/G9U3F8RAOC6FDAVC/d50252c10d38e1dae81886f9250d6894e5189ede10638abed94d999952ae3c75', 'https://links.sgx.com/1.0.0/corporate-announcements/SE1YICLS375VSL5G/e28e700555097157868acaca38f90686303ada6401294f15a3bb2271353616bd', 'https://links.sgx.com/1.0.0/corporate-announcements/O9TPA7XSN7QFZKAO/896006d0d4c736fe495160f241db160e3e307b517b96a4e05ccaa5b50aa23be4', 'https://links.sgx.com/1.0.0/corporate-announcements/YC4SNXB1L1PDDX3L/020eefa8f1c92ce3c58f6b6a5f418b9bb2014261f2badd7709c682c82db18aeb', 'https://links.sgx.com/1.0.0/corporate-announcements/KMJS5EXI6ZI5V251/8998f79c8c0997a2f3500d38703df90970fcccaaeb473bbb4f554f51bf2e3f33', 'https://links.sgx.com/1.0.0/corporate-announcements/Z5AS2LOJPA5KDHDB/a0876b64a643dadce1233d2f7a0b8d9dcf8cf44695399d837e1935eff33300df', 'https://links.sgx.com/1.0.0/corporate-announcements/394HM74LCFD5M07A/29a41154c0f442facc6e6f62a6adeb409f9db59e3b43f5e6ac6a19b6d63440ce', 'https://links.sgx.com/1.0.0/corporate-announcements/DGQN1D413YGS2ZUT/54906c8dc346cee920c88b4d6f1932af81c0e59ab82063dddb6fc9ddc64b397f', 'https://links.sgx.com/1.0.0/corporate-announcements/WI0RQ9F16C527G3C/2d0ba1b189b7aa4a0837abb39861184fca41d7ddc8af0314682953d0ba2f677e', 'https://links.sgx.com/1.0.0/corporate-announcements/5K1YWXTQF3GOSOS2/bf6d75b473d9b364f6bb2a68b2fd605663b27ef1c61f9ad8c3e8360903cb8a50', 'https://links.sgx.com/1.0.0/corporate-announcements/5R5ONEJHTLUT6VR1/613d0f3ba75fee3bf7be4dc4366d880b80242ff4da23dea8eff89cbf7c656210', 'https://links.sgx.com/1.0.0/corporate-announcements/HDFNPHKY6MDAJSKJ/dee2d9d3df64ae2bfbbb5be168f432f37dfeb588fe5eeea5c1a658c88c00708d', 'https://links.sgx.com/1.0.0/corporate-announcements/LHRLS1GM3LVARQSG/66aa14208874531f0f68cfd25c4445dcd40fa90a21e67e223178a3afb1e37827', 'https://links.sgx.com/1.0.0/corporate-announcements/JZUEB9CPJXK96Z57/2e8ae06a6b6f94d6dbe2e8c7b77dfe43efae6e533f5e7b3588e5877bd90a84e1', 'https://links.sgx.com/1.0.0/corporate-announcements/ROGA75CMRT7J2ERT/f41490422d2ca19164981082167be7ccde2d035ac6c1f54631fc92577a392c87', 'https://links.sgx.com/1.0.0/corporate-announcements/QJP800C026HK71TI/507899e849d5a53965ace983007ad403fb50804631451103b43c2f752b2f4957', 'https://links.sgx.com/1.0.0/corporate-announcements/BPMJYWZNLH6Q21RU/3bed7770c19230f5c06b32d91c3adbee540b26e7aa538c6ee0b63565f9e010b4', 'https://links.sgx.com/1.0.0/corporate-announcements/XML7ARJP2V46BEG3/4613e05d102fe4698ea1fc6da3cf70543adc5a6ffe22800963f0f9b3a87081d4', 'https://links.sgx.com/1.0.0/corporate-announcements/W2PT2VWAK2G93W0V/83cc61cc32e4928e518509a368572d6409f53af6d4666a35c7023e3e451e0571', 'https://links.sgx.com/1.0.0/corporate-announcements/NRUTPBNSFEEYR0WS/d12cdf52889e818d384354c06d015a34e03c3dc5c59bfa9ac11875557c9adfc8', 'https://links.sgx.com/1.0.0/corporate-announcements/649ASGO8WUJYYANE/3ca830f7f5cceafb109f0c68696e08f0dd8a27f63faec06af1a03588ea9b9181', 'https://links.sgx.com/1.0.0/corporate-announcements/ZFZR3XJJW1F1PRG0/dd5f0b969b575be46f8d4501df65da239f61108e188e90decc95e8eaedac8a12', 'https://links.sgx.com/1.0.0/corporate-announcements/LXITGCLNAKP5QZU0/8f18c6053404fe6078e8dab6962c3a2c43277a4000a06d57c590f41334f6d17a', 'https://links.sgx.com/1.0.0/corporate-announcements/3BQXJVKQ6ZQ1V7E8/4f225da5e18d9d7f7751d455f7bc5a00e29400e4a5ba21985c3b626c6510ae2c', 'https://links.sgx.com/1.0.0/corporate-announcements/UP2UMYBE2VQ9WG0L/335d39b8a74831ed8cb2050c60c13c35ac072d552f56d12a004a3b03521f068f', 'https://links.sgx.com/1.0.0/corporate-announcements/J5ZUFD2CEMO37ZRE/b1a15b1adea9178b80023eaf9eccaec68669afe9762bbb13dc6124dec460f2fe', 'https://links.sgx.com/1.0.0/corporate-announcements/QRBJRUP74JKXE0UX/11df5ec2051dc559ecf5a79d85b1227dfd9746f8b4501ef9e6c8ef9cf1511f48', 'https://links.sgx.com/1.0.0/corporate-announcements/2XMN2511PAUHE6UH/154cc4be1a99b810fbdc11063c7c10c02e1c37490b5637f8f7b563f1346bee08', 'https://links.sgx.com/1.0.0/corporate-announcements/EIGSSBU2Y2PHWRCI/550468630ed6caf08eedf08c7be22ebe27314c8f4c6543c80cfc0d2b6c1328f4', 'https://links.sgx.com/1.0.0/corporate-announcements/ZUOK5CHWYH32WNKC/809b01d3d34e534d0848ccc0a3eff7d773b614132697975b80d8254d9a04d367', 'https://links.sgx.com/1.0.0/corporate-announcements/C17M02SHU0UNCXVQ/c9135d5af005c40e1f73be2a1d48ee6599fbb2517cc724455f26b49dbb941a7b', 'https://links.sgx.com/1.0.0/corporate-announcements/05ROKMK4UJ4YD1JQ/f9abb962d46678f71104902cf0af808fa58ce07c2dc6fe075c504f1c3236844d', 'https://links.sgx.com/1.0.0/corporate-announcements/U8H97YW78CRB6I20/6896bd341a78bcab47622d27284430202d52b5a28a09c8438e55b53d1917d774', 'https://links.sgx.com/1.0.0/corporate-announcements/6IVIOK5LXBXDFTOG/d3191011fe5b4b47d01ed4a8196a34825cf0a310ac8656f9b36843350a5df9cd', 'https://links.sgx.com/1.0.0/corporate-announcements/1ZB5BFAQ5EG8R60G/5d8a8fae030221c68bc705f6a90bd014a8c718f41c411797e5ce20aaf9b89cd8', 'https://links.sgx.com/1.0.0/corporate-announcements/DUL9XZHTBGQ3TBI3/b0ecd1573c00295b3ebd2e792b00cc948d56bd58a79dd7a21da43b1bac39c382', 'https://links.sgx.com/1.0.0/corporate-announcements/K9B8A9T2DJHJIK28/c39c1fd09e69a2866d02945a6465263639d9ab99a1542862c2395cccf82af686', 'https://links.sgx.com/1.0.0/corporate-announcements/KFGFPAF239J8H5LP/d20df98592fa631c3e7913baae2067b33bcaa118d917afa016533d7fe76f01f1', 'https://links.sgx.com/1.0.0/corporate-announcements/Y85Q72Z2G42AT26J/de61bee3d70a3a5beee52bff34695dd8bb0efa15634b87595a86ad89c0904466', 'https://links.sgx.com/1.0.0/corporate-announcements/RB8OJI2DUFHQYK2R/f006e6cb5bc513cd979195156093bd71a1b554cad2956dfe1f694892237a438a', 'https://links.sgx.com/1.0.0/corporate-announcements/7D2TA80TP9GVNAN1/89183c127cef817bf6d705120e6d84adc4c0588da33ae37433374d2d91b43170', 'https://links.sgx.com/1.0.0/corporate-announcements/5FB46SWRPVGNOYRF/b38febd406346fd0026f1a9eafea04ecf10803dc9761ed5420eae2cc8de7d7ae', 'https://links.sgx.com/1.0.0/corporate-announcements/Z0YIZZ2AWMTJHX1H/faa3a6ccb03bd7e96a022aed72bc3c182d24b59687d019cd5c616442207931bb', 'https://links.sgx.com/1.0.0/corporate-announcements/4K0H4T1N4UDQ17JJ/df75f249db2cca0728c216575fd33a34fcca7d252f67c73660a4b317f444b762', 'https://links.sgx.com/1.0.0/corporate-announcements/2WL949E01CXNFD8F/56d6aa343a42bbd578cebca0b00f62d43ab7c60fc7219280f8249e977fc6ded5', 'https://links.sgx.com/1.0.0/corporate-announcements/JMU9NJ32H40AIMVM/54b620c671f69e92b286d886c8fc8389e4f853a712a4dc027e3e092666c40886', 'https://links.sgx.com/1.0.0/corporate-announcements/CXV47W9E72C8BNLB/c8685736bf54d301726cc6f52549cd6ceb36c7d1024873d34abfd64ec8bb194f', 'https://links.sgx.com/1.0.0/corporate-announcements/2A18ZYYZ3IIGQ0Z1/bc2ed1351897ee23c144277b57caffd251e0c9bd4fb6610bc0f93e195300a11f', 'https://links.sgx.com/1.0.0/corporate-announcements/2QBN9L91K3UDGEC8/e87447b8695d6a7a5af4741845ac4b8ba5edb114768f6a2deeb3308cd6dbb994', 'https://links.sgx.com/1.0.0/corporate-announcements/TIJFSGU04GEFU3EU/af60bb990d50a04d95194e6f4dc00ba5564f6bb24f270c13c0fe1ff292452b28', 'https://links.sgx.com/1.0.0/corporate-announcements/VD7H3PE3ZI99HGNG/352cbfd7f1d331b21e6db360e5f9f844f3293880c5d294f1bb601b4e3ff3cb6c', 'https://links.sgx.com/1.0.0/corporate-announcements/6FIUX4KTRYCWYQL4/fe5050081b90d7ce7bb36006719a5009f2195e9a6f29863ef81582fc2f0ffac3', 'https://links.sgx.com/1.0.0/corporate-announcements/7TEEK7DCI141GK31/a1eb80950d22c041829be7502a4bad53c65ac69738164fa714d0c0e74a8c1b49', 'https://links.sgx.com/1.0.0/corporate-announcements/TF99GABEG9JLL2O0/adcbe73e2ac740420b0851779fb03d9d68b4a86e801865146330189f3759f784', 'https://links.sgx.com/1.0.0/corporate-announcements/EKEZLF0WB0WDL4CD/da21e4797346e26b2b781f2d4925524c68085c1054a036b134810641f647f893', 'https://links.sgx.com/1.0.0/corporate-announcements/JJ0NGA2E26V17OXX/34de3c075d4fc6ff898a20188410186d2fa295770e34b0c5c4237e16205d65c0', 'https://links.sgx.com/1.0.0/corporate-announcements/X8P4YXKSS4KINVWG/134f61a5c48dff1a7e1afe6f00cd94068ca365931bd2a13bdef6183fac68228f', 'https://links.sgx.com/1.0.0/corporate-announcements/Q3SDWRVO1N51K6LM/a740483f814024e749f19c5658c1bf395bd247d9533d3b29c0b4975daee73de0', 'https://links.sgx.com/1.0.0/corporate-announcements/DVHYLK0XX3ZNVBAE/c5acdbfee3d7badf52978e727b271d043dd01e027740c3a033effa9f8bbbae43', 'https://links.sgx.com/1.0.0/corporate-announcements/1YCO8RHYY53WJLUV/3436627e436fef4420d4221860f081ceeee2ea8f4ada577fb5d5530a0c9e71b4', 'https://links.sgx.com/1.0.0/corporate-announcements/PD3WJLB022KTFPHN/55631405b327b841b8d74826f74f65ae1764a99a8dda7693958e146c8b9a4e1d', 'https://links.sgx.com/1.0.0/corporate-announcements/6VCB914SUCEA7PIC/7d4dce6d1e6ea25c7897e526a313596274b6817a2cd232fc9121f4189781c519', 'https://links.sgx.com/1.0.0/corporate-announcements/EOOPB3LH69JUQ6S8/a83bb0acfa9dc88e8fb2bfa4da5695cc39a10828e7f15874dddb7e87eee64e4c', 'https://links.sgx.com/1.0.0/corporate-announcements/NBXJJWM3B54MQD7K/dc806a138aa94bf9977ad2f11b6ce500adfcdc071e26a6f251bbd0c5b755c510', 'https://links.sgx.com/1.0.0/corporate-announcements/CNLO50A6FZ05ILNE/5394165fb208eac0a3d50015fb0fe7ef836aabf2cc9608641d5c960a27e75f71', 'https://links.sgx.com/1.0.0/corporate-announcements/BZEOJ5LKE6KRJWHU/e4190eeb23de490151d0efb1f7d2267be598f666f1c54889fd56abb6bffdfed2', 'https://links.sgx.com/1.0.0/corporate-announcements/GSFHK2EV77K5IY09/7302da589d7ea7412313cb0f844f11958601b1d5d85bd698720cb58073bf640f', 'https://links.sgx.com/1.0.0/corporate-announcements/XCMU0MBV40XQ636D/d8e9422a846142fc3664154cb2d8e8019aa5899722a4a242e258d6d4df1fab40', 'https://links.sgx.com/1.0.0/corporate-announcements/B6Y5IDZI80W7ZVBP/207323a1dfd5b40f43befd63711b49453eb3a7fa131645fef93281ef170569fb', 'https://links.sgx.com/1.0.0/corporate-announcements/18ZVGROLJN7N8NPL/ccf94a2789e3db02c92eac6c5f2512463316b69a2b0b8c59b7ea09396e193be6', 'https://links.sgx.com/1.0.0/corporate-announcements/3LTMUU9ATR6ICM21/d74fec081ad4c555e45ac8d2e70be18a78f8663c1ca0615f34c378bfb77b3bae', 'https://links.sgx.com/1.0.0/corporate-announcements/FG70NBD46GRO36MD/f50e67f9e06f5d73c64a44b65cf02b76851f719215af09a6f6b4f08e9a5d4274', 'https://links.sgx.com/1.0.0/corporate-announcements/AI7U1R2F2GZXJ3RK/c81231db17ed52ba03ec7a86865ee2e0885024935fc2e867db98c47f6e8184b5', 'https://links.sgx.com/1.0.0/corporate-announcements/LV3ESORN0WKOSZWX/2e4a91b6aca4ed92fb07917fb71be287e93254c1c9156e86859afb103282744a', 'https://links.sgx.com/1.0.0/corporate-announcements/JX6UX07Q248UOAX0/e01aecd1f8a057626bf313e801d184b8607c35c31d98453a28e2e2f5398fd197', 'https://links.sgx.com/1.0.0/corporate-announcements/TVIMPNK3VW2V5SCD/4b3fd5c6908903726324bc38f9c7532a59ab8aa97c1f1f6276585684f8a9d9dd', 'https://links.sgx.com/1.0.0/corporate-announcements/3NQB397LYSEGL9EO/6ca048fe2315f7e17bf8ab7134a244e9553146948c32c89763771e5731a3f573', 'https://links.sgx.com/1.0.0/corporate-announcements/PMDRZ6N5Y02RBN3Q/672d1cacbc3fa81445bb4cddc1b90e5c2fa37bb278ede1d0e5f2316c58325c1b', 'https://links.sgx.com/1.0.0/corporate-announcements/OTLIZ6N78ADTWXGJ/8ab8f426f3c04172283be29bdf26090b3089d2bba6771faa1047b9f8665f7529', 'https://links.sgx.com/1.0.0/corporate-announcements/H6SKSI6TUKAHSWEM/6e7d2c4610413f0aecbed1da98aeeb5339462ca870c248d28e170d101aaf5dbf', 'https://links.sgx.com/1.0.0/corporate-announcements/PUJ5WWM97BDGB936/2cc12b377b944e5a4086f120f4dcdda24a47e888e5aa79bcdcbb7a40a6b8b207', 'https://links.sgx.com/1.0.0/corporate-announcements/E6SV0ADQ5C5FFL9X/26f12a1a972d50c3a7ecb8118dad6a2a530c81c1e33c427827e461f540f1ef45', 'https://links.sgx.com/1.0.0/corporate-announcements/BIWZ3A3BHYHEX4GT/dca6496f9f3f7fac0d2dd344049720bba13c261d9668b1921df78684598447b3', 'https://links.sgx.com/1.0.0/corporate-announcements/RVSM3DGWT0VYMAIW/6208958facb1ad0e4b0b2ec546ba2dab4ed374bc3a121d3dcfc9a919ba73d885', 'https://links.sgx.com/1.0.0/corporate-announcements/3RV86FQFY2WIBD0U/34e21742f628ab7d0b35be37c8adfe2953f1e648a4af6b30765b0bb4f6856433', 'https://links.sgx.com/1.0.0/corporate-announcements/QMAR0RL4FA7WDUZX/475d3eccae38360f37ec28ef6cd7d388cdc84ccb87e5fa70dbe90c93b883c5a4', 'https://links.sgx.com/1.0.0/corporate-announcements/LFM7DS66HES1XXN5/ac36a74b89257618a39fa778da8588be5100e7ca157c25ae05c9ce1043fb7a7a', 'https://links.sgx.com/1.0.0/corporate-announcements/QR43E4GBJ9YTGU18/36936ed4f676abc5b8f9cc78864747f6ab8c3ce29ae66592d711a329b97d94e7', 'https://links.sgx.com/1.0.0/corporate-announcements/FREQNZ2PQU9PUGHR/1572b913132795d1f16b23ce7e512384ec955b1b7ce4cbc15c5f0befcc892047', 'https://links.sgx.com/1.0.0/corporate-announcements/T6660QIGF2E88JTI/b03f528857277a2074d20f78ee37709ba4244d1b66bf1dcfe413d9737a01917a', 'https://links.sgx.com/1.0.0/corporate-announcements/7XR5UOZAXMS6N9O0/e4bbcc5449a5db37ca736e9618557464bc83a454b754c01990c39e42c4e653a5', 'https://links.sgx.com/1.0.0/corporate-announcements/B07PE62KQ1P9O8V6/40bb3df22e5de8d1296a314fa772f43b6afb46af2e0d78ed1f3ce44e473c3169', 'https://links.sgx.com/1.0.0/corporate-announcements/E1ZNM07V691X6IS9/652fe8ff04c5d8744b696a7fd6bcd015338d38c55417b559afad5d83cba4da4e', 'https://links.sgx.com/1.0.0/corporate-announcements/HQF8QZ6W2UE30FM2/280948571900b18e76351cfb65a429a48cc6f9664fb0929810486e052a5f2a77', 'https://links.sgx.com/1.0.0/corporate-announcements/YZCSE44DA6YIK5QZ/15fcd0963193579ca9a208b8792d5846e5a140fa730a74ca0b24e05bf047a847', 'https://links.sgx.com/1.0.0/corporate-announcements/WWVL0DIPBH0DWAM6/26fffd6628adc26ee187b439ae5d789485a4117ad7dd8ffa030c711b043c19aa', 'https://links.sgx.com/1.0.0/corporate-announcements/5R9WZQWN08S4TEBF/73b0f302f8e2060efa45f2014254070c76696ef1e15c06c4f63407dc20cc8a66', 'https://links.sgx.com/1.0.0/corporate-announcements/KQK54QMH51C286TL/e7e1d0223298eaaf3088c101e5e6a7db00f0c720daaac42b8d72c3ecf6b9a153', 'https://links.sgx.com/1.0.0/corporate-announcements/4C5G8LQ5PLCJJW1I/a68fdea133846e06d16a9768f175d461baf78480a914e182932e1b8e73d974f8', 'https://links.sgx.com/1.0.0/corporate-announcements/WUKNJSB4HYTBYCN5/96e7a0a6e51a745640efe9090188f10ee0ce8bef7ca86499345017d02e9d05f0', 'https://links.sgx.com/1.0.0/corporate-announcements/CTPOJTC4GTSXA67P/6546e2d0488d326c2d228d707fef43e999cb71e6c19d4f9375c2b9d927dd63bd', 'https://links.sgx.com/1.0.0/corporate-announcements/0MEIHMYPG1D57CHI/f7c09bd44ff64cf20ceb47de6a70ef6c8be551dd502e435c6bd9740485347321', 'https://links.sgx.com/1.0.0/corporate-announcements/UN0794IW3CYZ3C6C/70548029d1b97784bb4e73b39bddf9c1da6b652f3e8e5c0ec57f448c2dc25850', 'https://links.sgx.com/1.0.0/corporate-announcements/H1ZHOI5K1U440N0S/3164cac97729e586103a19171bd28be5357b9c994e70561bac0952418a487d6d', 'https://links.sgx.com/1.0.0/corporate-announcements/3ZH1WVZFPJNRWHOR/1f891239bd72f516d9fa85bdf5584c06db575c95f3e789acf8f163bcee564c86', 'https://links.sgx.com/1.0.0/corporate-announcements/IV20VXF2BTIY3TB0/7178f159a8c0aaecbac42f0e3b533ac4d20394741a4bd6b08435b3364b125d32', 'https://links.sgx.com/1.0.0/corporate-announcements/64N4D11YEKIABOP7/4c79df57c977161275ccd578bf42ffe771c343c3edab2f319e41ede396ff69a3', 'https://links.sgx.com/1.0.0/corporate-announcements/DS0PHMUCW6JIIGNU/b34f442ec82c3fb8854996f19763e5118d7abf2be82bafa9bdfd582eca48ae79', 'https://links.sgx.com/1.0.0/corporate-announcements/01M3Z3BOITTJ8KA5/72d79ecce5168a62fe1336063c117a68c54cc5c5681bc6e52f50ca107d457c3b', 'https://links.sgx.com/1.0.0/corporate-announcements/RB4LZI3PIWOVHA5K/11170a24aad4b188665a13fbab46c761b06366c23360d30efcff91c0e37c4ace', 'https://links.sgx.com/1.0.0/corporate-announcements/ZA1E89LTVQY5W8MJ/ea3266b6c11df12b6356dd087d74e264dde86ee3a707a42beec6711f11181ffb', 'https://links.sgx.com/1.0.0/corporate-announcements/S65RV7FB2DMG6TMA/06303829a399a22e634f54f26c56b3168ec1f991b651a0e7dbe5d5bfbeb695bc', 'https://links.sgx.com/1.0.0/corporate-announcements/D4GA5T9TJ5QSWVKW/7ba0a59aa0cb2bd856c0e871d8ad7b4633b6dd27837fdfa42aa4331f7eb895ba', 'https://links.sgx.com/1.0.0/corporate-announcements/I2WRPQY10VFPJRP8/d3d3015a482bc5b68e39d6c69a594793448d5e17aac1676e000b22f534274642', 'https://links.sgx.com/1.0.0/corporate-announcements/8R2G06ZSI00FYNCR/7125bd04c31c13863b4ff4629e2027ece95273a427574890440bac639f29f5b3', 'https://links.sgx.com/1.0.0/corporate-announcements/BO9I6XIVUIM3WLJU/5603dbb23e555a19c33ad1a14ac565b1872d623a558a66ff2798596efacdc105', 'https://links.sgx.com/1.0.0/corporate-announcements/U98SP8F2TR4FM9TO/2b13fd4968b87c5e6f4cf384db1e0bdca20961351307f62aa814b3e8aca4f1a0', 'https://links.sgx.com/1.0.0/corporate-announcements/R18CMMMMSSJ056BS/4480e979e05ed38804bbcb35179cf9c72c5092f58b2fbf0b0fa8227b14200b56', 'https://links.sgx.com/1.0.0/corporate-announcements/HLFS9K7WDZZDY06M/38e950e95c668421e8d8a061bb7fbded81af8787996490b3926f3b40db305f0c', 'https://links.sgx.com/1.0.0/corporate-announcements/A0E30156DB2150D348257C9E0082F15E/257d84c63b696d7f62f7ee6a580719d8fbe3dafa44aa1aa2c3927112bae2ccc7', 'https://links.sgx.com/1.0.0/corporate-announcements/FB08E795C1DA7D3448257C9E00827BF2/2df5cf20a501f3c919e1f03399975c4d5d91b523739b7e0229c693de91b28852', 'https://links.sgx.com/1.0.0/corporate-announcements/A6B3A9E9966D989848257C620031C2A1/44c825cfcd4e6a80ea639573b737ff45c0771de2447bb70095705ff16ccb19bc', 'https://links.sgx.com/1.0.0/corporate-announcements/52E73CC4A6D3520848257C62002D2939/31652100dbad00529196e4c9d36ae015586d51166ac7eb54477294c1d0e83467', 'https://links.sgx.com/1.0.0/corporate-announcements/0384E152EC06D56F48257C6200239D00/1a70c08625aaf18123119eb64ccd5678b20907513e85d70dc7a508f5da141987', 'https://sginvestors.io/news/company-announcement/latest/', 'https://sginvestors.io/analysts/analysts-say', 'https://sginvestors.io/analysts/stocks/', 'https://sginvestors.io/analysts/target-price/latest', 'https://sginvestors.io/analysts/target-price/substantial-upside-downside', 'https://sginvestors.io/market/sgx-market-information/', 'https://sginvestors.io/news/publishers/latest/', 'https://sginvestors.io/sgx-mygateway/', 'https://sginvestors.io/news/company-announcement/latest/', 'https://sginvestors.io/news/sgx-listed-companies-share-buy-back', 'https://sginvestors.io/news/sgx-upcoming-dividend-capital-issue-entitlement', 'https://sginvestors.io/sgx/stock-listing/alpha', 'https://sginvestors.io/sgx/stock-listing/sector', 'https://sginvestors.io/sgx/reit-listing/alpha', 'https://sginvestors.io/sgx/reit-listing/sector', 'javascript:void(0)', 'https://sginvestors.io/market/ftse-st-indices-straits-times-index-constituents?utm_source=IOSearch&utm_medium=Search&utm_campaign=covid19&utm_content=200309', 'https://sginvestors.io/sgx/stock/d05-dbs/share-price-history?utm_source=IOSearch&utm_medium=Search&utm_campaign=D05&utm_content=171006', 'https://sginvestors.io/sgx/stock/u11-uob/share-price-history?utm_source=IOSearch&utm_medium=Search&utm_campaign=U11&utm_content=181026', 'https://sginvestors.io/sgx/stock/z74-singtel/share-price-history?utm_source=IOSearch&utm_medium=Search&utm_campaign=Z74&utm_content=171218', 'https://sginvestors.io/sgx/stock/o39-ocbc-bank/share-price-history?utm_source=IOSearch&utm_medium=Search&utm_campaign=O39&utm_content=180507', 'https://sginvestors.io/', 'https://sginvestors.io/market/ftse-st-indices-straits-times-index-constituents', 'https://sginvestors.io/market/sgx-market-information/', 'https://sginvestors.io/sgx/stock-listing/alpha', 'https://sginvestors.io/sgx/reit-listing/alpha', 'https://sginvestors.io/analysts/analysts-say', 'https://research.sginvestors.io/p/bloggers-say.html', 'https://sginvestors.io/news/publishers/latest/', 'https://sginvestors.io/news/company-announcement/latest/', 'https://sginvestors.io/', 'https://facebook.com/SGinvestors/', 'https://twitter.com/SGinvestors/', 'https://sginvestors.io/', 'https://sginvestors.io/site/privacy-statements', 'https://sginvestors.io/site/terms-of-use', 'https://sginvestors.io/site/sitemap', 'https://goo.gl/forms/qkRWSvdKY2Ht0tlE2', 'https://sginvestors.io/site/about-us']\n",
            "https://sginvestors.io/sgx/stock/5g1-eurosports-gbl/company-announcement\n",
            "https://sginvestors.io/sgx/stock/5g1-eurosports-gbl/company-announcement\n"
          ],
          "name": "stdout"
        },
        {
          "output_type": "error",
          "ename": "IndexError",
          "evalue": "ignored",
          "traceback": [
            "\u001b[0;31m---------------------------------------------------------------------------\u001b[0m",
            "\u001b[0;31mIndexError\u001b[0m                                Traceback (most recent call last)",
            "\u001b[0;32m<ipython-input-25-daf5245fa8c0>\u001b[0m in \u001b[0;36m<module>\u001b[0;34m()\u001b[0m\n\u001b[1;32m     41\u001b[0m         \u001b[0mopener\u001b[0m\u001b[0;34m.\u001b[0m\u001b[0maddheaders\u001b[0m \u001b[0;34m=\u001b[0m \u001b[0;34m[\u001b[0m\u001b[0;34m(\u001b[0m\u001b[0;34m'User-agent'\u001b[0m\u001b[0;34m,\u001b[0m \u001b[0;34m'Mozilla/5.0'\u001b[0m\u001b[0;34m)\u001b[0m\u001b[0;34m]\u001b[0m\u001b[0;34m\u001b[0m\u001b[0;34m\u001b[0m\u001b[0m\n\u001b[1;32m     42\u001b[0m         \u001b[0murllib\u001b[0m\u001b[0;34m.\u001b[0m\u001b[0mrequest\u001b[0m\u001b[0;34m.\u001b[0m\u001b[0minstall_opener\u001b[0m\u001b[0;34m(\u001b[0m\u001b[0mopener\u001b[0m\u001b[0;34m)\u001b[0m\u001b[0;34m\u001b[0m\u001b[0;34m\u001b[0m\u001b[0m\n\u001b[0;32m---> 43\u001b[0;31m         \u001b[0murllib\u001b[0m\u001b[0;34m.\u001b[0m\u001b[0mrequest\u001b[0m\u001b[0;34m.\u001b[0m\u001b[0murlretrieve\u001b[0m\u001b[0;34m(\u001b[0m\u001b[0mpdf\u001b[0m\u001b[0;34m,\u001b[0m \u001b[0mlabels\u001b[0m\u001b[0;34m[\u001b[0m\u001b[0;36m0\u001b[0m\u001b[0;34m]\u001b[0m\u001b[0;34m.\u001b[0m\u001b[0mtext\u001b[0m\u001b[0;34m.\u001b[0m\u001b[0mreplace\u001b[0m\u001b[0;34m(\u001b[0m\u001b[0;34m':'\u001b[0m\u001b[0;34m,\u001b[0m\u001b[0;34m''\u001b[0m\u001b[0;34m)\u001b[0m\u001b[0;34m+\u001b[0m\u001b[0;34m'_'\u001b[0m\u001b[0;34m+\u001b[0m\u001b[0mstr\u001b[0m\u001b[0;34m(\u001b[0m\u001b[0mn\u001b[0m\u001b[0;34m)\u001b[0m\u001b[0;34m+\u001b[0m\u001b[0;34m'.pdf'\u001b[0m\u001b[0;34m)\u001b[0m\u001b[0;34m\u001b[0m\u001b[0;34m\u001b[0m\u001b[0m\n\u001b[0m\u001b[1;32m     44\u001b[0m         \u001b[0mn\u001b[0m\u001b[0;34m+=\u001b[0m\u001b[0;36m1\u001b[0m\u001b[0;34m\u001b[0m\u001b[0;34m\u001b[0m\u001b[0m\n",
            "\u001b[0;31mIndexError\u001b[0m: list index out of range"
          ]
        }
      ]
    },
    {
      "cell_type": "code",
      "metadata": {
        "id": "rfyFkSms6rmf",
        "colab": {
          "base_uri": "https://localhost:8080/"
        },
        "outputId": "21d53b8a-60c6-4be0-8503-820ba674d28f"
      },
      "source": [
        "%cp -av \"/content\" \"/content/drive/MyDrive/Colab Notebooks/Data\"\n"
      ],
      "execution_count": null,
      "outputs": [
        {
          "output_type": "stream",
          "text": [
            "'/content' -> '/content/drive/MyDrive/Colab Notebooks/Data/content'\n",
            "'/content/.config' -> '/content/drive/MyDrive/Colab Notebooks/Data/content/.config'\n",
            "'/content/.config/.last_opt_in_prompt.yaml' -> '/content/drive/MyDrive/Colab Notebooks/Data/content/.config/.last_opt_in_prompt.yaml'\n",
            "'/content/.config/.last_survey_prompt.yaml' -> '/content/drive/MyDrive/Colab Notebooks/Data/content/.config/.last_survey_prompt.yaml'\n",
            "'/content/.config/.last_update_check.json' -> '/content/drive/MyDrive/Colab Notebooks/Data/content/.config/.last_update_check.json'\n",
            "'/content/.config/active_config' -> '/content/drive/MyDrive/Colab Notebooks/Data/content/.config/active_config'\n",
            "'/content/.config/config_sentinel' -> '/content/drive/MyDrive/Colab Notebooks/Data/content/.config/config_sentinel'\n",
            "'/content/.config/configurations' -> '/content/drive/MyDrive/Colab Notebooks/Data/content/.config/configurations'\n",
            "'/content/.config/configurations/config_default' -> '/content/drive/MyDrive/Colab Notebooks/Data/content/.config/configurations/config_default'\n",
            "'/content/.config/gce' -> '/content/drive/MyDrive/Colab Notebooks/Data/content/.config/gce'\n",
            "'/content/.config/logs' -> '/content/drive/MyDrive/Colab Notebooks/Data/content/.config/logs'\n",
            "'/content/.config/logs/2021.08.13' -> '/content/drive/MyDrive/Colab Notebooks/Data/content/.config/logs/2021.08.13'\n",
            "'/content/.config/logs/2021.08.13/13.34.24.204370.log' -> '/content/drive/MyDrive/Colab Notebooks/Data/content/.config/logs/2021.08.13/13.34.24.204370.log'\n",
            "'/content/.config/logs/2021.08.13/13.34.42.905647.log' -> '/content/drive/MyDrive/Colab Notebooks/Data/content/.config/logs/2021.08.13/13.34.42.905647.log'\n",
            "'/content/.config/logs/2021.08.13/13.34.59.322293.log' -> '/content/drive/MyDrive/Colab Notebooks/Data/content/.config/logs/2021.08.13/13.34.59.322293.log'\n",
            "'/content/.config/logs/2021.08.13/13.35.05.184494.log' -> '/content/drive/MyDrive/Colab Notebooks/Data/content/.config/logs/2021.08.13/13.35.05.184494.log'\n",
            "'/content/.config/logs/2021.08.13/13.35.22.830760.log' -> '/content/drive/MyDrive/Colab Notebooks/Data/content/.config/logs/2021.08.13/13.35.22.830760.log'\n",
            "'/content/.config/logs/2021.08.13/13.35.23.554803.log' -> '/content/drive/MyDrive/Colab Notebooks/Data/content/.config/logs/2021.08.13/13.35.23.554803.log'\n",
            "'/content/13-Aug-2021 180528_1.pdf' -> '/content/drive/MyDrive/Colab Notebooks/Data/content/13-Aug-2021 180528_1.pdf'\n",
            "'/content/10-Nov-2020 214420_1.pdf' -> '/content/drive/MyDrive/Colab Notebooks/Data/content/10-Nov-2020 214420_1.pdf'\n",
            "'/content/13-Jul-2021 171547_1.pdf' -> '/content/drive/MyDrive/Colab Notebooks/Data/content/13-Jul-2021 171547_1.pdf'\n",
            "'/content/drive' -> '/content/drive/MyDrive/Colab Notebooks/Data/content/drive'\n",
            "'/content/drive/.shortcut-targets-by-id' -> '/content/drive/MyDrive/Colab Notebooks/Data/content/drive/.shortcut-targets-by-id'\n",
            "'/content/drive/.file-revisions-by-id' -> '/content/drive/MyDrive/Colab Notebooks/Data/content/drive/.file-revisions-by-id'\n",
            "'/content/drive/MyDrive' -> '/content/drive/MyDrive/Colab Notebooks/Data/content/drive/MyDrive'\n",
            "'/content/drive/MyDrive/WP_20150315_15_15_57_Pro.mp4' -> '/content/drive/MyDrive/Colab Notebooks/Data/content/drive/MyDrive/WP_20150315_15_15_57_Pro.mp4'\n",
            "'/content/drive/MyDrive/Coursework Booklet.gslides' -> '/content/drive/MyDrive/Colab Notebooks/Data/content/drive/MyDrive/Coursework Booklet.gslides'\n",
            "cp: cannot open '/content/drive/MyDrive/Coursework Booklet.gslides' for reading: Operation not supported\n",
            "'/content/drive/MyDrive/tom dalby.gslides' -> '/content/drive/MyDrive/Colab Notebooks/Data/content/drive/MyDrive/tom dalby.gslides'\n",
            "cp: cannot open '/content/drive/MyDrive/tom dalby.gslides' for reading: Operation not supported\n",
            "'/content/drive/MyDrive/IMG-20160702-WA0035.jpg' -> '/content/drive/MyDrive/Colab Notebooks/Data/content/drive/MyDrive/IMG-20160702-WA0035.jpg'\n",
            "'/content/drive/MyDrive/...Tillingbourne River Fieldwork Investigation.docx' -> '/content/drive/MyDrive/Colab Notebooks/Data/content/drive/MyDrive/...Tillingbourne River Fieldwork Investigation.docx'\n",
            "'/content/drive/MyDrive/7291 T.Dalby.docx' -> '/content/drive/MyDrive/Colab Notebooks/Data/content/drive/MyDrive/7291 T.Dalby.docx'\n",
            "'/content/drive/MyDrive/Mathematical Sciences Day.jpg' -> '/content/drive/MyDrive/Colab Notebooks/Data/content/drive/MyDrive/Mathematical Sciences Day.jpg'\n",
            "'/content/drive/MyDrive/Aquinas AO1 (Teleological Argument).docx' -> '/content/drive/MyDrive/Colab Notebooks/Data/content/drive/MyDrive/Aquinas AO1 (Teleological Argument).docx'\n",
            "'/content/drive/MyDrive/Teleological Argument Essay Plan.docx' -> '/content/drive/MyDrive/Colab Notebooks/Data/content/drive/MyDrive/Teleological Argument Essay Plan.docx'\n",
            "'/content/drive/MyDrive/Physics Required Practical 5 - Determination of Resistivity of a Wire.docx' -> '/content/drive/MyDrive/Colab Notebooks/Data/content/drive/MyDrive/Physics Required Practical 5 - Determination of Resistivity of a Wire.docx'\n",
            "'/content/drive/MyDrive/Second and Third Formulation of the Categorical Imperative.docx' -> '/content/drive/MyDrive/Colab Notebooks/Data/content/drive/MyDrive/Second and Third Formulation of the Categorical Imperative.docx'\n",
            "'/content/drive/MyDrive/PSM-2017-Summer-Worksheet-1-Curve-Sketching' -> '/content/drive/MyDrive/Colab Notebooks/Data/content/drive/MyDrive/PSM-2017-Summer-Worksheet-1-Curve-Sketching'\n",
            "'/content/drive/MyDrive/Sep 18, Doc 1.pdf' -> '/content/drive/MyDrive/Colab Notebooks/Data/content/drive/MyDrive/Sep 18, Doc 1.pdf'\n",
            "'/content/drive/MyDrive/Career' -> '/content/drive/MyDrive/Colab Notebooks/Data/content/drive/MyDrive/Career'\n",
            "'/content/drive/MyDrive/Career/Applications' -> '/content/drive/MyDrive/Colab Notebooks/Data/content/drive/MyDrive/Career/Applications'\n",
            "'/content/drive/MyDrive/Career/Applications/CV' -> '/content/drive/MyDrive/Colab Notebooks/Data/content/drive/MyDrive/Career/Applications/CV'\n",
            "'/content/drive/MyDrive/Career/Applications/CV/First sample CV.gdoc' -> '/content/drive/MyDrive/Colab Notebooks/Data/content/drive/MyDrive/Career/Applications/CV/First sample CV.gdoc'\n",
            "cp: cannot open '/content/drive/MyDrive/Career/Applications/CV/First sample CV.gdoc' for reading: Operation not supported\n",
            "'/content/drive/MyDrive/Career/Applications/CV/Copy of CV.gdoc' -> '/content/drive/MyDrive/Colab Notebooks/Data/content/drive/MyDrive/Career/Applications/CV/Copy of CV.gdoc'\n",
            "cp: cannot open '/content/drive/MyDrive/Career/Applications/CV/Copy of CV.gdoc' for reading: Operation not supported\n",
            "'/content/drive/MyDrive/Coding' -> '/content/drive/MyDrive/Colab Notebooks/Data/content/drive/MyDrive/Coding'\n",
            "'/content/drive/MyDrive/Coding/Leetcode Solutions.gdoc' -> '/content/drive/MyDrive/Colab Notebooks/Data/content/drive/MyDrive/Coding/Leetcode Solutions.gdoc'\n",
            "cp: cannot open '/content/drive/MyDrive/Coding/Leetcode Solutions.gdoc' for reading: Operation not supported\n",
            "'/content/drive/MyDrive/2015.csv.gsheet' -> '/content/drive/MyDrive/Colab Notebooks/Data/content/drive/MyDrive/2015.csv.gsheet'\n",
            "cp: cannot open '/content/drive/MyDrive/2015.csv.gsheet' for reading: Operation not supported\n",
            "'/content/drive/MyDrive/Jupyter Startup.gdoc' -> '/content/drive/MyDrive/Colab Notebooks/Data/content/drive/MyDrive/Jupyter Startup.gdoc'\n",
            "cp: cannot open '/content/drive/MyDrive/Jupyter Startup.gdoc' for reading: Operation not supported\n",
            "'/content/drive/MyDrive/CV.gdoc' -> '/content/drive/MyDrive/Colab Notebooks/Data/content/drive/MyDrive/CV.gdoc'\n",
            "cp: cannot open '/content/drive/MyDrive/CV.gdoc' for reading: Operation not supported\n",
            "'/content/drive/MyDrive/Algomo Preparation.gdoc' -> '/content/drive/MyDrive/Colab Notebooks/Data/content/drive/MyDrive/Algomo Preparation.gdoc'\n",
            "cp: cannot open '/content/drive/MyDrive/Algomo Preparation.gdoc' for reading: Operation not supported\n",
            "'/content/drive/MyDrive/Response to Christos.gdoc' -> '/content/drive/MyDrive/Colab Notebooks/Data/content/drive/MyDrive/Response to Christos.gdoc'\n",
            "cp: cannot open '/content/drive/MyDrive/Response to Christos.gdoc' for reading: Operation not supported\n",
            "\"/content/drive/MyDrive/Places I've Applied.gdoc\" -> \"/content/drive/MyDrive/Colab Notebooks/Data/content/drive/MyDrive/Places I've Applied.gdoc\"\n",
            "cp: cannot open \"/content/drive/MyDrive/Places I've Applied.gdoc\" for reading: Operation not supported\n",
            "'/content/drive/MyDrive/VSCode Running C++.gdoc' -> '/content/drive/MyDrive/Colab Notebooks/Data/content/drive/MyDrive/VSCode Running C++.gdoc'\n",
            "cp: cannot open '/content/drive/MyDrive/VSCode Running C++.gdoc' for reading: Operation not supported\n",
            "'/content/drive/MyDrive/Things to do in each module.gdoc' -> '/content/drive/MyDrive/Colab Notebooks/Data/content/drive/MyDrive/Things to do in each module.gdoc'\n",
            "cp: cannot open '/content/drive/MyDrive/Things to do in each module.gdoc' for reading: Operation not supported\n",
            "'/content/drive/MyDrive/TomsPC_20201118_122452.zip' -> '/content/drive/MyDrive/Colab Notebooks/Data/content/drive/MyDrive/TomsPC_20201118_122452.zip'\n",
            "cp: error reading '/content/drive/MyDrive/TomsPC_20201118_122452.zip': Operation not permitted\n",
            "'/content/drive/MyDrive/Linear Algerbra Tips.gdoc' -> '/content/drive/MyDrive/Colab Notebooks/Data/content/drive/MyDrive/Linear Algerbra Tips.gdoc'\n",
            "cp: cannot open '/content/drive/MyDrive/Linear Algerbra Tips.gdoc' for reading: Operation not supported\n",
            "'/content/drive/MyDrive/Linear Algebra Cheat Sheet.gdoc' -> '/content/drive/MyDrive/Colab Notebooks/Data/content/drive/MyDrive/Linear Algebra Cheat Sheet.gdoc'\n",
            "cp: cannot open '/content/drive/MyDrive/Linear Algebra Cheat Sheet.gdoc' for reading: Operation not supported\n",
            "'/content/drive/MyDrive/2nd Year Essay Topics.gdoc' -> '/content/drive/MyDrive/Colab Notebooks/Data/content/drive/MyDrive/2nd Year Essay Topics.gdoc'\n",
            "cp: cannot open '/content/drive/MyDrive/2nd Year Essay Topics.gdoc' for reading: Operation not supported\n",
            "'/content/drive/MyDrive/Galois Theory.gdoc' -> '/content/drive/MyDrive/Colab Notebooks/Data/content/drive/MyDrive/Galois Theory.gdoc'\n",
            "cp: cannot open '/content/drive/MyDrive/Galois Theory.gdoc' for reading: Operation not supported\n",
            "'/content/drive/MyDrive/MVC Next Steps.gdoc' -> '/content/drive/MyDrive/Colab Notebooks/Data/content/drive/MyDrive/MVC Next Steps.gdoc'\n",
            "cp: cannot open '/content/drive/MyDrive/MVC Next Steps.gdoc' for reading: Operation not supported\n",
            "'/content/drive/MyDrive/Financial tips.gdoc' -> '/content/drive/MyDrive/Colab Notebooks/Data/content/drive/MyDrive/Financial tips.gdoc'\n",
            "cp: cannot open '/content/drive/MyDrive/Financial tips.gdoc' for reading: Operation not supported\n",
            "'/content/drive/MyDrive/Year 3 4 Modules.gdoc' -> '/content/drive/MyDrive/Colab Notebooks/Data/content/drive/MyDrive/Year 3 4 Modules.gdoc'\n",
            "cp: cannot open '/content/drive/MyDrive/Year 3 4 Modules.gdoc' for reading: Operation not supported\n",
            "'/content/drive/MyDrive/Patient Forms August 2020 - MASTER - LOCKED - Copy.docx' -> '/content/drive/MyDrive/Colab Notebooks/Data/content/drive/MyDrive/Patient Forms August 2020 - MASTER - LOCKED - Copy.docx'\n",
            "'/content/drive/MyDrive/Year 3 Modules.gdoc' -> '/content/drive/MyDrive/Colab Notebooks/Data/content/drive/MyDrive/Year 3 Modules.gdoc'\n",
            "cp: cannot open '/content/drive/MyDrive/Year 3 Modules.gdoc' for reading: Operation not supported\n",
            "'/content/drive/MyDrive/Sudoku.gdoc' -> '/content/drive/MyDrive/Colab Notebooks/Data/content/drive/MyDrive/Sudoku.gdoc'\n",
            "cp: cannot open '/content/drive/MyDrive/Sudoku.gdoc' for reading: Operation not supported\n",
            "'/content/drive/MyDrive/American Courses.gdoc' -> '/content/drive/MyDrive/Colab Notebooks/Data/content/drive/MyDrive/American Courses.gdoc'\n",
            "cp: cannot open '/content/drive/MyDrive/American Courses.gdoc' for reading: Operation not supported\n",
            "'/content/drive/MyDrive/Cambridge part 3 modules.gdoc' -> '/content/drive/MyDrive/Colab Notebooks/Data/content/drive/MyDrive/Cambridge part 3 modules.gdoc'\n",
            "cp: cannot open '/content/drive/MyDrive/Cambridge part 3 modules.gdoc' for reading: Operation not supported\n",
            "'/content/drive/MyDrive/Colab Notebooks' -> '/content/drive/MyDrive/Colab Notebooks/Data/content/drive/MyDrive/Colab Notebooks'\n",
            "'/content/drive/MyDrive/Colab Notebooks/ObtainingStockData.ipynb' -> '/content/drive/MyDrive/Colab Notebooks/Data/content/drive/MyDrive/Colab Notebooks/ObtainingStockData.ipynb'\n",
            "'/content/drive/MyDrive/Colab Notebooks/Data' -> '/content/drive/MyDrive/Colab Notebooks/Data/content/drive/MyDrive/Colab Notebooks/Data'\n",
            "cp: cannot copy a directory, '/content', into itself, '/content/drive/MyDrive/Colab Notebooks/Data/content'\n"
          ],
          "name": "stdout"
        }
      ]
    },
    {
      "cell_type": "code",
      "metadata": {
        "id": "zbuWBT-KqJO5"
      },
      "source": [
        ""
      ],
      "execution_count": null,
      "outputs": []
    }
  ]
}